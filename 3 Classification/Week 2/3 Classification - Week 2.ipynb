{
 "cells": [
  {
   "cell_type": "code",
   "execution_count": 1,
   "metadata": {
    "collapsed": true
   },
   "outputs": [],
   "source": [
    "import pandas as pd\n",
    "import numpy as np\n",
    "import math"
   ]
  },
  {
   "cell_type": "code",
   "execution_count": 2,
   "metadata": {
    "collapsed": true
   },
   "outputs": [],
   "source": [
    "products = pd.read_csv('amazon_baby_subset.csv')"
   ]
  },
  {
   "cell_type": "code",
   "execution_count": 3,
   "metadata": {
    "collapsed": true
   },
   "outputs": [],
   "source": [
    "import json\n",
    "with open('important_words.json', 'r') as f: # Reads the list of most frequent words\n",
    "    important_words = json.load(f)"
   ]
  },
  {
   "cell_type": "code",
   "execution_count": 4,
   "metadata": {
    "collapsed": false
   },
   "outputs": [
    {
     "data": {
      "text/html": [
       "<div>\n",
       "<table border=\"1\" class=\"dataframe\">\n",
       "  <thead>\n",
       "    <tr style=\"text-align: right;\">\n",
       "      <th></th>\n",
       "      <th>name</th>\n",
       "      <th>review</th>\n",
       "      <th>rating</th>\n",
       "      <th>sentiment</th>\n",
       "    </tr>\n",
       "  </thead>\n",
       "  <tbody>\n",
       "    <tr>\n",
       "      <th>0</th>\n",
       "      <td>Stop Pacifier Sucking without tears with Thumb...</td>\n",
       "      <td>All of my kids have cried non-stop when I trie...</td>\n",
       "      <td>5</td>\n",
       "      <td>1</td>\n",
       "    </tr>\n",
       "    <tr>\n",
       "      <th>1</th>\n",
       "      <td>Nature's Lullabies Second Year Sticker Calendar</td>\n",
       "      <td>We wanted to get something to keep track of ou...</td>\n",
       "      <td>5</td>\n",
       "      <td>1</td>\n",
       "    </tr>\n",
       "    <tr>\n",
       "      <th>2</th>\n",
       "      <td>Nature's Lullabies Second Year Sticker Calendar</td>\n",
       "      <td>My daughter had her 1st baby over a year ago. ...</td>\n",
       "      <td>5</td>\n",
       "      <td>1</td>\n",
       "    </tr>\n",
       "    <tr>\n",
       "      <th>3</th>\n",
       "      <td>Lamaze Peekaboo, I Love You</td>\n",
       "      <td>One of baby's first and favorite books, and it...</td>\n",
       "      <td>4</td>\n",
       "      <td>1</td>\n",
       "    </tr>\n",
       "    <tr>\n",
       "      <th>4</th>\n",
       "      <td>SoftPlay Peek-A-Boo Where's Elmo A Children's ...</td>\n",
       "      <td>Very cute interactive book! My son loves this ...</td>\n",
       "      <td>5</td>\n",
       "      <td>1</td>\n",
       "    </tr>\n",
       "    <tr>\n",
       "      <th>5</th>\n",
       "      <td>Our Baby Girl Memory Book</td>\n",
       "      <td>Beautiful book, I love it to record cherished ...</td>\n",
       "      <td>5</td>\n",
       "      <td>1</td>\n",
       "    </tr>\n",
       "    <tr>\n",
       "      <th>6</th>\n",
       "      <td>Hunnt&amp;reg; Falling Flowers and Birds Kids Nurs...</td>\n",
       "      <td>Try this out for a spring project !Easy ,fun a...</td>\n",
       "      <td>5</td>\n",
       "      <td>1</td>\n",
       "    </tr>\n",
       "    <tr>\n",
       "      <th>7</th>\n",
       "      <td>Blessed By Pope Benedict XVI Divine Mercy Full...</td>\n",
       "      <td>very nice Divine Mercy Pendant of Jesus now on...</td>\n",
       "      <td>5</td>\n",
       "      <td>1</td>\n",
       "    </tr>\n",
       "    <tr>\n",
       "      <th>8</th>\n",
       "      <td>Cloth Diaper Pins Stainless Steel Traditional ...</td>\n",
       "      <td>We bought the pins as my 6 year old Autistic s...</td>\n",
       "      <td>4</td>\n",
       "      <td>1</td>\n",
       "    </tr>\n",
       "    <tr>\n",
       "      <th>9</th>\n",
       "      <td>Cloth Diaper Pins Stainless Steel Traditional ...</td>\n",
       "      <td>It has been many years since we needed diaper ...</td>\n",
       "      <td>5</td>\n",
       "      <td>1</td>\n",
       "    </tr>\n",
       "  </tbody>\n",
       "</table>\n",
       "</div>"
      ],
      "text/plain": [
       "                                                name  \\\n",
       "0  Stop Pacifier Sucking without tears with Thumb...   \n",
       "1    Nature's Lullabies Second Year Sticker Calendar   \n",
       "2    Nature's Lullabies Second Year Sticker Calendar   \n",
       "3                        Lamaze Peekaboo, I Love You   \n",
       "4  SoftPlay Peek-A-Boo Where's Elmo A Children's ...   \n",
       "5                          Our Baby Girl Memory Book   \n",
       "6  Hunnt&reg; Falling Flowers and Birds Kids Nurs...   \n",
       "7  Blessed By Pope Benedict XVI Divine Mercy Full...   \n",
       "8  Cloth Diaper Pins Stainless Steel Traditional ...   \n",
       "9  Cloth Diaper Pins Stainless Steel Traditional ...   \n",
       "\n",
       "                                              review  rating  sentiment  \n",
       "0  All of my kids have cried non-stop when I trie...       5          1  \n",
       "1  We wanted to get something to keep track of ou...       5          1  \n",
       "2  My daughter had her 1st baby over a year ago. ...       5          1  \n",
       "3  One of baby's first and favorite books, and it...       4          1  \n",
       "4  Very cute interactive book! My son loves this ...       5          1  \n",
       "5  Beautiful book, I love it to record cherished ...       5          1  \n",
       "6  Try this out for a spring project !Easy ,fun a...       5          1  \n",
       "7  very nice Divine Mercy Pendant of Jesus now on...       5          1  \n",
       "8  We bought the pins as my 6 year old Autistic s...       4          1  \n",
       "9  It has been many years since we needed diaper ...       5          1  "
      ]
     },
     "execution_count": 4,
     "metadata": {},
     "output_type": "execute_result"
    }
   ],
   "source": [
    "products.head(10)"
   ]
  },
  {
   "cell_type": "code",
   "execution_count": 5,
   "metadata": {
    "collapsed": false
   },
   "outputs": [
    {
     "name": "stdout",
     "output_type": "stream",
     "text": [
      "# of positive reviews = 26579\n",
      "# of negative reviews = 26493\n"
     ]
    }
   ],
   "source": [
    "print '# of positive reviews =', len(products[products['sentiment']==1])\n",
    "print '# of negative reviews =', len(products[products['sentiment']==-1])"
   ]
  },
  {
   "cell_type": "code",
   "execution_count": 6,
   "metadata": {
    "collapsed": true
   },
   "outputs": [],
   "source": [
    "products = products.fillna({'review':''})  # fill in N/A's in the review column"
   ]
  },
  {
   "cell_type": "code",
   "execution_count": 7,
   "metadata": {
    "collapsed": true
   },
   "outputs": [],
   "source": [
    "def remove_punctuation(text):\n",
    "    import string\n",
    "    return text.translate(None, string.punctuation)"
   ]
  },
  {
   "cell_type": "code",
   "execution_count": 8,
   "metadata": {
    "collapsed": true
   },
   "outputs": [],
   "source": [
    "products['review_clean'] = products['review'].apply(remove_punctuation)"
   ]
  },
  {
   "cell_type": "code",
   "execution_count": 9,
   "metadata": {
    "collapsed": false
   },
   "outputs": [
    {
     "data": {
      "text/html": [
       "<div>\n",
       "<table border=\"1\" class=\"dataframe\">\n",
       "  <thead>\n",
       "    <tr style=\"text-align: right;\">\n",
       "      <th></th>\n",
       "      <th>name</th>\n",
       "      <th>review</th>\n",
       "      <th>rating</th>\n",
       "      <th>sentiment</th>\n",
       "      <th>review_clean</th>\n",
       "    </tr>\n",
       "  </thead>\n",
       "  <tbody>\n",
       "    <tr>\n",
       "      <th>0</th>\n",
       "      <td>Stop Pacifier Sucking without tears with Thumb...</td>\n",
       "      <td>All of my kids have cried non-stop when I trie...</td>\n",
       "      <td>5</td>\n",
       "      <td>1</td>\n",
       "      <td>All of my kids have cried nonstop when I tried...</td>\n",
       "    </tr>\n",
       "    <tr>\n",
       "      <th>1</th>\n",
       "      <td>Nature's Lullabies Second Year Sticker Calendar</td>\n",
       "      <td>We wanted to get something to keep track of ou...</td>\n",
       "      <td>5</td>\n",
       "      <td>1</td>\n",
       "      <td>We wanted to get something to keep track of ou...</td>\n",
       "    </tr>\n",
       "    <tr>\n",
       "      <th>2</th>\n",
       "      <td>Nature's Lullabies Second Year Sticker Calendar</td>\n",
       "      <td>My daughter had her 1st baby over a year ago. ...</td>\n",
       "      <td>5</td>\n",
       "      <td>1</td>\n",
       "      <td>My daughter had her 1st baby over a year ago S...</td>\n",
       "    </tr>\n",
       "    <tr>\n",
       "      <th>3</th>\n",
       "      <td>Lamaze Peekaboo, I Love You</td>\n",
       "      <td>One of baby's first and favorite books, and it...</td>\n",
       "      <td>4</td>\n",
       "      <td>1</td>\n",
       "      <td>One of babys first and favorite books and it i...</td>\n",
       "    </tr>\n",
       "    <tr>\n",
       "      <th>4</th>\n",
       "      <td>SoftPlay Peek-A-Boo Where's Elmo A Children's ...</td>\n",
       "      <td>Very cute interactive book! My son loves this ...</td>\n",
       "      <td>5</td>\n",
       "      <td>1</td>\n",
       "      <td>Very cute interactive book My son loves this b...</td>\n",
       "    </tr>\n",
       "    <tr>\n",
       "      <th>5</th>\n",
       "      <td>Our Baby Girl Memory Book</td>\n",
       "      <td>Beautiful book, I love it to record cherished ...</td>\n",
       "      <td>5</td>\n",
       "      <td>1</td>\n",
       "      <td>Beautiful book I love it to record cherished t...</td>\n",
       "    </tr>\n",
       "    <tr>\n",
       "      <th>6</th>\n",
       "      <td>Hunnt&amp;reg; Falling Flowers and Birds Kids Nurs...</td>\n",
       "      <td>Try this out for a spring project !Easy ,fun a...</td>\n",
       "      <td>5</td>\n",
       "      <td>1</td>\n",
       "      <td>Try this out for a spring project Easy fun and...</td>\n",
       "    </tr>\n",
       "    <tr>\n",
       "      <th>7</th>\n",
       "      <td>Blessed By Pope Benedict XVI Divine Mercy Full...</td>\n",
       "      <td>very nice Divine Mercy Pendant of Jesus now on...</td>\n",
       "      <td>5</td>\n",
       "      <td>1</td>\n",
       "      <td>very nice Divine Mercy Pendant of Jesus now on...</td>\n",
       "    </tr>\n",
       "    <tr>\n",
       "      <th>8</th>\n",
       "      <td>Cloth Diaper Pins Stainless Steel Traditional ...</td>\n",
       "      <td>We bought the pins as my 6 year old Autistic s...</td>\n",
       "      <td>4</td>\n",
       "      <td>1</td>\n",
       "      <td>We bought the pins as my 6 year old Autistic s...</td>\n",
       "    </tr>\n",
       "    <tr>\n",
       "      <th>9</th>\n",
       "      <td>Cloth Diaper Pins Stainless Steel Traditional ...</td>\n",
       "      <td>It has been many years since we needed diaper ...</td>\n",
       "      <td>5</td>\n",
       "      <td>1</td>\n",
       "      <td>It has been many years since we needed diaper ...</td>\n",
       "    </tr>\n",
       "  </tbody>\n",
       "</table>\n",
       "</div>"
      ],
      "text/plain": [
       "                                                name  \\\n",
       "0  Stop Pacifier Sucking without tears with Thumb...   \n",
       "1    Nature's Lullabies Second Year Sticker Calendar   \n",
       "2    Nature's Lullabies Second Year Sticker Calendar   \n",
       "3                        Lamaze Peekaboo, I Love You   \n",
       "4  SoftPlay Peek-A-Boo Where's Elmo A Children's ...   \n",
       "5                          Our Baby Girl Memory Book   \n",
       "6  Hunnt&reg; Falling Flowers and Birds Kids Nurs...   \n",
       "7  Blessed By Pope Benedict XVI Divine Mercy Full...   \n",
       "8  Cloth Diaper Pins Stainless Steel Traditional ...   \n",
       "9  Cloth Diaper Pins Stainless Steel Traditional ...   \n",
       "\n",
       "                                              review  rating  sentiment  \\\n",
       "0  All of my kids have cried non-stop when I trie...       5          1   \n",
       "1  We wanted to get something to keep track of ou...       5          1   \n",
       "2  My daughter had her 1st baby over a year ago. ...       5          1   \n",
       "3  One of baby's first and favorite books, and it...       4          1   \n",
       "4  Very cute interactive book! My son loves this ...       5          1   \n",
       "5  Beautiful book, I love it to record cherished ...       5          1   \n",
       "6  Try this out for a spring project !Easy ,fun a...       5          1   \n",
       "7  very nice Divine Mercy Pendant of Jesus now on...       5          1   \n",
       "8  We bought the pins as my 6 year old Autistic s...       4          1   \n",
       "9  It has been many years since we needed diaper ...       5          1   \n",
       "\n",
       "                                        review_clean  \n",
       "0  All of my kids have cried nonstop when I tried...  \n",
       "1  We wanted to get something to keep track of ou...  \n",
       "2  My daughter had her 1st baby over a year ago S...  \n",
       "3  One of babys first and favorite books and it i...  \n",
       "4  Very cute interactive book My son loves this b...  \n",
       "5  Beautiful book I love it to record cherished t...  \n",
       "6  Try this out for a spring project Easy fun and...  \n",
       "7  very nice Divine Mercy Pendant of Jesus now on...  \n",
       "8  We bought the pins as my 6 year old Autistic s...  \n",
       "9  It has been many years since we needed diaper ...  "
      ]
     },
     "execution_count": 9,
     "metadata": {},
     "output_type": "execute_result"
    }
   ],
   "source": [
    "products.head(10)"
   ]
  },
  {
   "cell_type": "code",
   "execution_count": 10,
   "metadata": {
    "collapsed": false
   },
   "outputs": [],
   "source": [
    "for word in important_words:\n",
    "    products[word] = products['review_clean'].apply(lambda s : s.split().count(word))"
   ]
  },
  {
   "cell_type": "code",
   "execution_count": 11,
   "metadata": {
    "collapsed": false
   },
   "outputs": [
    {
     "data": {
      "text/html": [
       "<div>\n",
       "<table border=\"1\" class=\"dataframe\">\n",
       "  <thead>\n",
       "    <tr style=\"text-align: right;\">\n",
       "      <th></th>\n",
       "      <th>name</th>\n",
       "      <th>review</th>\n",
       "      <th>rating</th>\n",
       "      <th>sentiment</th>\n",
       "      <th>review_clean</th>\n",
       "      <th>baby</th>\n",
       "      <th>one</th>\n",
       "      <th>great</th>\n",
       "      <th>love</th>\n",
       "      <th>use</th>\n",
       "      <th>...</th>\n",
       "      <th>seems</th>\n",
       "      <th>picture</th>\n",
       "      <th>completely</th>\n",
       "      <th>wish</th>\n",
       "      <th>buying</th>\n",
       "      <th>babies</th>\n",
       "      <th>won</th>\n",
       "      <th>tub</th>\n",
       "      <th>almost</th>\n",
       "      <th>either</th>\n",
       "    </tr>\n",
       "  </thead>\n",
       "  <tbody>\n",
       "    <tr>\n",
       "      <th>0</th>\n",
       "      <td>Stop Pacifier Sucking without tears with Thumb...</td>\n",
       "      <td>All of my kids have cried non-stop when I trie...</td>\n",
       "      <td>5</td>\n",
       "      <td>1</td>\n",
       "      <td>All of my kids have cried nonstop when I tried...</td>\n",
       "      <td>0</td>\n",
       "      <td>0</td>\n",
       "      <td>1</td>\n",
       "      <td>0</td>\n",
       "      <td>0</td>\n",
       "      <td>...</td>\n",
       "      <td>0</td>\n",
       "      <td>0</td>\n",
       "      <td>0</td>\n",
       "      <td>0</td>\n",
       "      <td>0</td>\n",
       "      <td>0</td>\n",
       "      <td>0</td>\n",
       "      <td>0</td>\n",
       "      <td>0</td>\n",
       "      <td>0</td>\n",
       "    </tr>\n",
       "    <tr>\n",
       "      <th>1</th>\n",
       "      <td>Nature's Lullabies Second Year Sticker Calendar</td>\n",
       "      <td>We wanted to get something to keep track of ou...</td>\n",
       "      <td>5</td>\n",
       "      <td>1</td>\n",
       "      <td>We wanted to get something to keep track of ou...</td>\n",
       "      <td>0</td>\n",
       "      <td>0</td>\n",
       "      <td>0</td>\n",
       "      <td>0</td>\n",
       "      <td>0</td>\n",
       "      <td>...</td>\n",
       "      <td>0</td>\n",
       "      <td>0</td>\n",
       "      <td>0</td>\n",
       "      <td>0</td>\n",
       "      <td>0</td>\n",
       "      <td>0</td>\n",
       "      <td>0</td>\n",
       "      <td>0</td>\n",
       "      <td>0</td>\n",
       "      <td>0</td>\n",
       "    </tr>\n",
       "    <tr>\n",
       "      <th>2</th>\n",
       "      <td>Nature's Lullabies Second Year Sticker Calendar</td>\n",
       "      <td>My daughter had her 1st baby over a year ago. ...</td>\n",
       "      <td>5</td>\n",
       "      <td>1</td>\n",
       "      <td>My daughter had her 1st baby over a year ago S...</td>\n",
       "      <td>1</td>\n",
       "      <td>0</td>\n",
       "      <td>0</td>\n",
       "      <td>0</td>\n",
       "      <td>0</td>\n",
       "      <td>...</td>\n",
       "      <td>0</td>\n",
       "      <td>0</td>\n",
       "      <td>0</td>\n",
       "      <td>0</td>\n",
       "      <td>0</td>\n",
       "      <td>0</td>\n",
       "      <td>0</td>\n",
       "      <td>0</td>\n",
       "      <td>0</td>\n",
       "      <td>0</td>\n",
       "    </tr>\n",
       "    <tr>\n",
       "      <th>3</th>\n",
       "      <td>Lamaze Peekaboo, I Love You</td>\n",
       "      <td>One of baby's first and favorite books, and it...</td>\n",
       "      <td>4</td>\n",
       "      <td>1</td>\n",
       "      <td>One of babys first and favorite books and it i...</td>\n",
       "      <td>0</td>\n",
       "      <td>0</td>\n",
       "      <td>0</td>\n",
       "      <td>0</td>\n",
       "      <td>0</td>\n",
       "      <td>...</td>\n",
       "      <td>0</td>\n",
       "      <td>0</td>\n",
       "      <td>0</td>\n",
       "      <td>0</td>\n",
       "      <td>0</td>\n",
       "      <td>0</td>\n",
       "      <td>0</td>\n",
       "      <td>0</td>\n",
       "      <td>0</td>\n",
       "      <td>0</td>\n",
       "    </tr>\n",
       "    <tr>\n",
       "      <th>4</th>\n",
       "      <td>SoftPlay Peek-A-Boo Where's Elmo A Children's ...</td>\n",
       "      <td>Very cute interactive book! My son loves this ...</td>\n",
       "      <td>5</td>\n",
       "      <td>1</td>\n",
       "      <td>Very cute interactive book My son loves this b...</td>\n",
       "      <td>0</td>\n",
       "      <td>0</td>\n",
       "      <td>1</td>\n",
       "      <td>0</td>\n",
       "      <td>0</td>\n",
       "      <td>...</td>\n",
       "      <td>0</td>\n",
       "      <td>0</td>\n",
       "      <td>0</td>\n",
       "      <td>0</td>\n",
       "      <td>0</td>\n",
       "      <td>1</td>\n",
       "      <td>0</td>\n",
       "      <td>0</td>\n",
       "      <td>0</td>\n",
       "      <td>0</td>\n",
       "    </tr>\n",
       "    <tr>\n",
       "      <th>5</th>\n",
       "      <td>Our Baby Girl Memory Book</td>\n",
       "      <td>Beautiful book, I love it to record cherished ...</td>\n",
       "      <td>5</td>\n",
       "      <td>1</td>\n",
       "      <td>Beautiful book I love it to record cherished t...</td>\n",
       "      <td>0</td>\n",
       "      <td>0</td>\n",
       "      <td>1</td>\n",
       "      <td>1</td>\n",
       "      <td>0</td>\n",
       "      <td>...</td>\n",
       "      <td>0</td>\n",
       "      <td>0</td>\n",
       "      <td>0</td>\n",
       "      <td>0</td>\n",
       "      <td>0</td>\n",
       "      <td>0</td>\n",
       "      <td>0</td>\n",
       "      <td>0</td>\n",
       "      <td>0</td>\n",
       "      <td>0</td>\n",
       "    </tr>\n",
       "    <tr>\n",
       "      <th>6</th>\n",
       "      <td>Hunnt&amp;reg; Falling Flowers and Birds Kids Nurs...</td>\n",
       "      <td>Try this out for a spring project !Easy ,fun a...</td>\n",
       "      <td>5</td>\n",
       "      <td>1</td>\n",
       "      <td>Try this out for a spring project Easy fun and...</td>\n",
       "      <td>0</td>\n",
       "      <td>0</td>\n",
       "      <td>0</td>\n",
       "      <td>0</td>\n",
       "      <td>0</td>\n",
       "      <td>...</td>\n",
       "      <td>0</td>\n",
       "      <td>0</td>\n",
       "      <td>0</td>\n",
       "      <td>0</td>\n",
       "      <td>0</td>\n",
       "      <td>0</td>\n",
       "      <td>0</td>\n",
       "      <td>0</td>\n",
       "      <td>0</td>\n",
       "      <td>0</td>\n",
       "    </tr>\n",
       "    <tr>\n",
       "      <th>7</th>\n",
       "      <td>Blessed By Pope Benedict XVI Divine Mercy Full...</td>\n",
       "      <td>very nice Divine Mercy Pendant of Jesus now on...</td>\n",
       "      <td>5</td>\n",
       "      <td>1</td>\n",
       "      <td>very nice Divine Mercy Pendant of Jesus now on...</td>\n",
       "      <td>0</td>\n",
       "      <td>0</td>\n",
       "      <td>0</td>\n",
       "      <td>0</td>\n",
       "      <td>0</td>\n",
       "      <td>...</td>\n",
       "      <td>0</td>\n",
       "      <td>0</td>\n",
       "      <td>0</td>\n",
       "      <td>0</td>\n",
       "      <td>0</td>\n",
       "      <td>0</td>\n",
       "      <td>0</td>\n",
       "      <td>0</td>\n",
       "      <td>0</td>\n",
       "      <td>0</td>\n",
       "    </tr>\n",
       "    <tr>\n",
       "      <th>8</th>\n",
       "      <td>Cloth Diaper Pins Stainless Steel Traditional ...</td>\n",
       "      <td>We bought the pins as my 6 year old Autistic s...</td>\n",
       "      <td>4</td>\n",
       "      <td>1</td>\n",
       "      <td>We bought the pins as my 6 year old Autistic s...</td>\n",
       "      <td>0</td>\n",
       "      <td>1</td>\n",
       "      <td>0</td>\n",
       "      <td>0</td>\n",
       "      <td>1</td>\n",
       "      <td>...</td>\n",
       "      <td>0</td>\n",
       "      <td>0</td>\n",
       "      <td>0</td>\n",
       "      <td>0</td>\n",
       "      <td>0</td>\n",
       "      <td>0</td>\n",
       "      <td>0</td>\n",
       "      <td>0</td>\n",
       "      <td>0</td>\n",
       "      <td>0</td>\n",
       "    </tr>\n",
       "    <tr>\n",
       "      <th>9</th>\n",
       "      <td>Cloth Diaper Pins Stainless Steel Traditional ...</td>\n",
       "      <td>It has been many years since we needed diaper ...</td>\n",
       "      <td>5</td>\n",
       "      <td>1</td>\n",
       "      <td>It has been many years since we needed diaper ...</td>\n",
       "      <td>0</td>\n",
       "      <td>1</td>\n",
       "      <td>0</td>\n",
       "      <td>0</td>\n",
       "      <td>0</td>\n",
       "      <td>...</td>\n",
       "      <td>0</td>\n",
       "      <td>0</td>\n",
       "      <td>0</td>\n",
       "      <td>0</td>\n",
       "      <td>0</td>\n",
       "      <td>0</td>\n",
       "      <td>0</td>\n",
       "      <td>0</td>\n",
       "      <td>0</td>\n",
       "      <td>0</td>\n",
       "    </tr>\n",
       "  </tbody>\n",
       "</table>\n",
       "<p>10 rows × 198 columns</p>\n",
       "</div>"
      ],
      "text/plain": [
       "                                                name  \\\n",
       "0  Stop Pacifier Sucking without tears with Thumb...   \n",
       "1    Nature's Lullabies Second Year Sticker Calendar   \n",
       "2    Nature's Lullabies Second Year Sticker Calendar   \n",
       "3                        Lamaze Peekaboo, I Love You   \n",
       "4  SoftPlay Peek-A-Boo Where's Elmo A Children's ...   \n",
       "5                          Our Baby Girl Memory Book   \n",
       "6  Hunnt&reg; Falling Flowers and Birds Kids Nurs...   \n",
       "7  Blessed By Pope Benedict XVI Divine Mercy Full...   \n",
       "8  Cloth Diaper Pins Stainless Steel Traditional ...   \n",
       "9  Cloth Diaper Pins Stainless Steel Traditional ...   \n",
       "\n",
       "                                              review  rating  sentiment  \\\n",
       "0  All of my kids have cried non-stop when I trie...       5          1   \n",
       "1  We wanted to get something to keep track of ou...       5          1   \n",
       "2  My daughter had her 1st baby over a year ago. ...       5          1   \n",
       "3  One of baby's first and favorite books, and it...       4          1   \n",
       "4  Very cute interactive book! My son loves this ...       5          1   \n",
       "5  Beautiful book, I love it to record cherished ...       5          1   \n",
       "6  Try this out for a spring project !Easy ,fun a...       5          1   \n",
       "7  very nice Divine Mercy Pendant of Jesus now on...       5          1   \n",
       "8  We bought the pins as my 6 year old Autistic s...       4          1   \n",
       "9  It has been many years since we needed diaper ...       5          1   \n",
       "\n",
       "                                        review_clean  baby  one  great  love  \\\n",
       "0  All of my kids have cried nonstop when I tried...     0    0      1     0   \n",
       "1  We wanted to get something to keep track of ou...     0    0      0     0   \n",
       "2  My daughter had her 1st baby over a year ago S...     1    0      0     0   \n",
       "3  One of babys first and favorite books and it i...     0    0      0     0   \n",
       "4  Very cute interactive book My son loves this b...     0    0      1     0   \n",
       "5  Beautiful book I love it to record cherished t...     0    0      1     1   \n",
       "6  Try this out for a spring project Easy fun and...     0    0      0     0   \n",
       "7  very nice Divine Mercy Pendant of Jesus now on...     0    0      0     0   \n",
       "8  We bought the pins as my 6 year old Autistic s...     0    1      0     0   \n",
       "9  It has been many years since we needed diaper ...     0    1      0     0   \n",
       "\n",
       "   use   ...    seems  picture  completely  wish  buying  babies  won  tub  \\\n",
       "0    0   ...        0        0           0     0       0       0    0    0   \n",
       "1    0   ...        0        0           0     0       0       0    0    0   \n",
       "2    0   ...        0        0           0     0       0       0    0    0   \n",
       "3    0   ...        0        0           0     0       0       0    0    0   \n",
       "4    0   ...        0        0           0     0       0       1    0    0   \n",
       "5    0   ...        0        0           0     0       0       0    0    0   \n",
       "6    0   ...        0        0           0     0       0       0    0    0   \n",
       "7    0   ...        0        0           0     0       0       0    0    0   \n",
       "8    1   ...        0        0           0     0       0       0    0    0   \n",
       "9    0   ...        0        0           0     0       0       0    0    0   \n",
       "\n",
       "   almost  either  \n",
       "0       0       0  \n",
       "1       0       0  \n",
       "2       0       0  \n",
       "3       0       0  \n",
       "4       0       0  \n",
       "5       0       0  \n",
       "6       0       0  \n",
       "7       0       0  \n",
       "8       0       0  \n",
       "9       0       0  \n",
       "\n",
       "[10 rows x 198 columns]"
      ]
     },
     "execution_count": 11,
     "metadata": {},
     "output_type": "execute_result"
    }
   ],
   "source": [
    "products.head(10)"
   ]
  },
  {
   "cell_type": "code",
   "execution_count": 16,
   "metadata": {
    "collapsed": false
   },
   "outputs": [],
   "source": [
    "products['contains_perfect'] = products['perfect'].apply(lambda x : 1 if x >= 1 else 0)"
   ]
  },
  {
   "cell_type": "code",
   "execution_count": 19,
   "metadata": {
    "collapsed": false
   },
   "outputs": [
    {
     "data": {
      "text/plain": [
       "0    0\n",
       "1    0\n",
       "2    0\n",
       "3    1\n",
       "4    0\n",
       "Name: contains_perfect, dtype: int64"
      ]
     },
     "execution_count": 19,
     "metadata": {},
     "output_type": "execute_result"
    }
   ],
   "source": [
    "products['contains_perfect'].head(5)"
   ]
  },
  {
   "cell_type": "code",
   "execution_count": 68,
   "metadata": {
    "collapsed": false
   },
   "outputs": [
    {
     "data": {
      "text/plain": [
       "2955"
      ]
     },
     "execution_count": 68,
     "metadata": {},
     "output_type": "execute_result"
    }
   ],
   "source": [
    "sum(products['contains_perfect'])"
   ]
  },
  {
   "cell_type": "code",
   "execution_count": 20,
   "metadata": {
    "collapsed": true
   },
   "outputs": [],
   "source": [
    "def get_numpy_data(dataframe, features, label):\n",
    "    dataframe['constant'] = 1\n",
    "    features = ['constant'] + features\n",
    "    features_frame = dataframe[features]\n",
    "    feature_matrix = features_frame.as_matrix()\n",
    "    label_sarray = dataframe[label]\n",
    "    label_array = label_sarray.as_matrix()\n",
    "    return(feature_matrix, label_array)"
   ]
  },
  {
   "cell_type": "code",
   "execution_count": 32,
   "metadata": {
    "collapsed": false
   },
   "outputs": [],
   "source": [
    "feature_matrix, label_array = get_numpy_data(products, important_words, 'sentiment')"
   ]
  },
  {
   "cell_type": "markdown",
   "metadata": {},
   "source": [
    "feature_matrix"
   ]
  },
  {
   "cell_type": "code",
   "execution_count": 67,
   "metadata": {
    "collapsed": false
   },
   "outputs": [
    {
     "data": {
      "text/plain": [
       "(53072, 194)"
      ]
     },
     "execution_count": 67,
     "metadata": {},
     "output_type": "execute_result"
    }
   ],
   "source": [
    "feature_matrix.shape"
   ]
  },
  {
   "cell_type": "code",
   "execution_count": 35,
   "metadata": {
    "collapsed": false
   },
   "outputs": [
    {
     "data": {
      "text/plain": [
       "array([ 1,  1,  1, ..., -1, -1, -1])"
      ]
     },
     "execution_count": 35,
     "metadata": {},
     "output_type": "execute_result"
    }
   ],
   "source": [
    "label_array"
   ]
  },
  {
   "cell_type": "markdown",
   "metadata": {},
   "source": [
    "### Calculating the conditional probability"
   ]
  },
  {
   "cell_type": "code",
   "execution_count": 69,
   "metadata": {
    "collapsed": false
   },
   "outputs": [],
   "source": [
    "'''\n",
    "produces probablistic estimate for P(y_i = +1 | x_i, w).\n",
    "estimate ranges between 0 and 1.\n",
    "'''\n",
    "def predict_probability(feature_matrix, coefficients):\n",
    "    # Take dot product of feature_matrix and coefficients  \n",
    "    score = feature_matrix.dot(coefficients)\n",
    "    \n",
    "    # Compute P(y_i = +1 | x_i, w) using the link function\n",
    "    predictions = 1 /(1 + np.exp(-score))\n",
    "    return predictions"
   ]
  },
  {
   "cell_type": "code",
   "execution_count": 76,
   "metadata": {
    "collapsed": false
   },
   "outputs": [
    {
     "name": "stdout",
     "output_type": "stream",
     "text": [
      "The following outputs must match \n",
      "------------------------------------------------\n",
      "correct_predictions           = [ 0.98201379  0.26894142]\n",
      "output of predict_probability = [ 0.98201379  0.26894142]\n"
     ]
    }
   ],
   "source": [
    "dummy_feature_matrix = np.array([[1.,2.,3.], [1.,-1.,-1]])\n",
    "dummy_coefficients = np.array([1., 3., -1.])\n",
    "\n",
    "correct_scores      = np.array( [ 1.*1. + 2.*3. + 3.*(-1.),          1.*1. + (-1.)*3. + (-1.)*(-1.) ] )\n",
    "correct_predictions = np.array( [ 1./(1+np.exp(-correct_scores[0])), 1./(1+np.exp(-correct_scores[1])) ] )\n",
    "\n",
    "print 'The following outputs must match '\n",
    "print '------------------------------------------------'\n",
    "print 'correct_predictions           =', correct_predictions\n",
    "print 'output of predict_probability =', predict_probability(dummy_feature_matrix, dummy_coefficients)"
   ]
  },
  {
   "cell_type": "markdown",
   "metadata": {},
   "source": [
    "### Calculating the derivative of the log likelihood"
   ]
  },
  {
   "cell_type": "code",
   "execution_count": 85,
   "metadata": {
    "collapsed": true
   },
   "outputs": [],
   "source": [
    "def feature_derivative(errors, feature):     \n",
    "    # Compute the dot product of errors and feature\n",
    "    derivative = sum(feature *errors)\n",
    "    return derivative"
   ]
  },
  {
   "cell_type": "markdown",
   "metadata": {},
   "source": [
    "### Computing log likelihood"
   ]
  },
  {
   "cell_type": "code",
   "execution_count": 56,
   "metadata": {
    "collapsed": false
   },
   "outputs": [],
   "source": [
    "def compute_log_likelihood(feature_matrix, sentiment, coefficients):\n",
    "    indicator = (sentiment==+1)\n",
    "    scores = np.dot(feature_matrix, coefficients)\n",
    "    lp = np.sum((indicator-1)*scores - np.log(1. + np.exp(-scores)))\n",
    "    return lp"
   ]
  },
  {
   "cell_type": "code",
   "execution_count": 77,
   "metadata": {
    "collapsed": false
   },
   "outputs": [
    {
     "name": "stdout",
     "output_type": "stream",
     "text": [
      "The following outputs must match \n",
      "------------------------------------------------\n",
      "correct_log_likelihood           = -5.33141161544\n",
      "output of compute_log_likelihood = -5.33141161544\n"
     ]
    }
   ],
   "source": [
    "dummy_feature_matrix = np.array([[1.,2.,3.], [1.,-1.,-1]])\n",
    "dummy_coefficients = np.array([1., 3., -1.])\n",
    "dummy_sentiment = np.array([-1, 1])\n",
    "\n",
    "correct_indicators  = np.array( [ -1==+1,                                       1==+1 ] )\n",
    "correct_scores      = np.array( [ 1.*1. + 2.*3. + 3.*(-1.),                     1.*1. + (-1.)*3. + (-1.)*(-1.) ] )\n",
    "correct_first_term  = np.array( [ (correct_indicators[0]-1)*correct_scores[0],  (correct_indicators[1]-1)*correct_scores[1] ] )\n",
    "correct_second_term = np.array( [ np.log(1. + np.exp(-correct_scores[0])),      np.log(1. + np.exp(-correct_scores[1])) ] )\n",
    "\n",
    "correct_ll          =      sum( [ correct_first_term[0]-correct_second_term[0], correct_first_term[1]-correct_second_term[1] ] ) \n",
    "\n",
    "print 'The following outputs must match '\n",
    "print '------------------------------------------------'\n",
    "print 'correct_log_likelihood           =', correct_ll\n",
    "print 'output of compute_log_likelihood =', compute_log_likelihood(dummy_feature_matrix, dummy_sentiment, dummy_coefficients)"
   ]
  },
  {
   "cell_type": "markdown",
   "metadata": {},
   "source": [
    "## Gradient Ascent"
   ]
  },
  {
   "cell_type": "code",
   "execution_count": 86,
   "metadata": {
    "collapsed": false
   },
   "outputs": [],
   "source": [
    "from math import sqrt\n",
    "def logistic_regression(feature_matrix, sentiment, initial_coefficients, step_size, max_iter):\n",
    "    coefficients = np.array(initial_coefficients) # make sure it's a numpy array\n",
    "    for itr in xrange(max_iter):\n",
    "        # Predict P(y_i = +1|x_1,w) using your predict_probability() function\n",
    "        predictions = predict_probability(feature_matrix, coefficients)\n",
    "\n",
    "        # Compute indicator value for (y_i = +1)\n",
    "        indicator = (sentiment==+1)\n",
    "\n",
    "        # Compute the errors as indicator - predictions\n",
    "        errors = indicator - predictions\n",
    "\n",
    "        for j in xrange(len(coefficients)): # loop over each coefficient\n",
    "            # Recall that feature_matrix[:,j] is the feature column associated with coefficients[j]\n",
    "            # compute the derivative for coefficients[j]. Save it in a variable called derivative\n",
    "            derivative = feature_derivative(errors, feature_matrix[:,j])\n",
    "\n",
    "            # add the step size times the derivative to the current coefficient\n",
    "            coefficients[j] = coefficients[j] + (step_size*derivative)\n",
    "\n",
    "        # Checking whether log likelihood is increasing\n",
    "        if itr <= 15 or (itr <= 100 and itr % 10 == 0) or (itr <= 1000 and itr % 100 == 0) \\\n",
    "        or (itr <= 10000 and itr % 1000 == 0) or itr % 10000 == 0:\n",
    "            lp = compute_log_likelihood(feature_matrix, sentiment, coefficients)\n",
    "            print 'iteration %*d: log likelihood of observed labels = %.8f' % \\\n",
    "                (int(np.ceil(np.log10(max_iter))), itr, lp)\n",
    "    return coefficients"
   ]
  },
  {
   "cell_type": "code",
   "execution_count": 87,
   "metadata": {
    "collapsed": false
   },
   "outputs": [],
   "source": [
    "#feature_matrix = feature_matrix # extracted in #9\n",
    "sentiment = label_array #extracted in #9\n",
    "initial_coefficients = np.zeros(194)#a 194-dimensional vector filled with zeros\n",
    "step_size = 1e-7\n",
    "max_iter = 301"
   ]
  },
  {
   "cell_type": "code",
   "execution_count": 88,
   "metadata": {
    "collapsed": false
   },
   "outputs": [
    {
     "name": "stdout",
     "output_type": "stream",
     "text": [
      "iteration   0: log likelihood of observed labels = -36780.91768478\n",
      "iteration   1: log likelihood of observed labels = -36775.13434712\n",
      "iteration   2: log likelihood of observed labels = -36769.35713564\n",
      "iteration   3: log likelihood of observed labels = -36763.58603240\n",
      "iteration   4: log likelihood of observed labels = -36757.82101962\n",
      "iteration   5: log likelihood of observed labels = -36752.06207964\n",
      "iteration   6: log likelihood of observed labels = -36746.30919497\n",
      "iteration   7: log likelihood of observed labels = -36740.56234821\n",
      "iteration   8: log likelihood of observed labels = -36734.82152213\n",
      "iteration   9: log likelihood of observed labels = -36729.08669961\n",
      "iteration  10: log likelihood of observed labels = -36723.35786366\n",
      "iteration  11: log likelihood of observed labels = -36717.63499744\n",
      "iteration  12: log likelihood of observed labels = -36711.91808422\n",
      "iteration  13: log likelihood of observed labels = -36706.20710739\n",
      "iteration  14: log likelihood of observed labels = -36700.50205049\n",
      "iteration  15: log likelihood of observed labels = -36694.80289716\n",
      "iteration  20: log likelihood of observed labels = -36666.39512033\n",
      "iteration  30: log likelihood of observed labels = -36610.01327118\n",
      "iteration  40: log likelihood of observed labels = -36554.19728365\n",
      "iteration  50: log likelihood of observed labels = -36498.93316099\n",
      "iteration  60: log likelihood of observed labels = -36444.20783914\n",
      "iteration  70: log likelihood of observed labels = -36390.00909449\n",
      "iteration  80: log likelihood of observed labels = -36336.32546144\n",
      "iteration  90: log likelihood of observed labels = -36283.14615871\n",
      "iteration 100: log likelihood of observed labels = -36230.46102347\n",
      "iteration 200: log likelihood of observed labels = -35728.89418769\n",
      "iteration 300: log likelihood of observed labels = -35268.51212683\n"
     ]
    }
   ],
   "source": [
    "coefficients = logistic_regression(feature_matrix, sentiment, initial_coefficients, step_size, max_iter)"
   ]
  },
  {
   "cell_type": "markdown",
   "metadata": {},
   "source": [
    "## Predicting Sentiments"
   ]
  },
  {
   "cell_type": "code",
   "execution_count": 89,
   "metadata": {
    "collapsed": true
   },
   "outputs": [],
   "source": [
    "scores = np.dot(feature_matrix, coefficients)\n",
    "def classPredictions(score):\n",
    "    if score > 0:\n",
    "        return 1\n",
    "    else:\n",
    "        return -1\n",
    "predictionsFunc = np.vectorize(classPredictions)\n",
    "predictions = predictionsFunc(scores)"
   ]
  },
  {
   "cell_type": "code",
   "execution_count": 90,
   "metadata": {
    "collapsed": false
   },
   "outputs": [
    {
     "data": {
      "text/plain": [
       "25126"
      ]
     },
     "execution_count": 90,
     "metadata": {},
     "output_type": "execute_result"
    }
   ],
   "source": [
    "predictions[predictions == 1].sum()"
   ]
  },
  {
   "cell_type": "markdown",
   "metadata": {},
   "source": [
    "### Measuring Accuracy"
   ]
  },
  {
   "cell_type": "code",
   "execution_count": 94,
   "metadata": {
    "collapsed": false
   },
   "outputs": [
    {
     "name": "stdout",
     "output_type": "stream",
     "text": [
      "-----------------------------------------------------\n",
      "# Reviews   correctly classified = 39903\n",
      "# Reviews incorrectly classified = 13169\n",
      "# Reviews total                  = 53072\n",
      "-----------------------------------------------------\n",
      "Accuracy = 0.75\n"
     ]
    }
   ],
   "source": [
    "num_mistakes = (sentiment != predictions).sum()\n",
    "accuracy = (len(sentiment)-num_mistakes)*1.0/len(sentiment)\n",
    "print \"-----------------------------------------------------\"\n",
    "print '# Reviews   correctly classified =', len(products) - num_mistakes\n",
    "print '# Reviews incorrectly classified =', num_mistakes\n",
    "print '# Reviews total                  =', len(products)\n",
    "print \"-----------------------------------------------------\"\n",
    "print 'Accuracy = %.2f' % accuracy"
   ]
  },
  {
   "cell_type": "markdown",
   "metadata": {},
   "source": [
    "### Which words contribute most to positive & negative sentiments"
   ]
  },
  {
   "cell_type": "code",
   "execution_count": 95,
   "metadata": {
    "collapsed": true
   },
   "outputs": [],
   "source": [
    "coefficients = list(coefficients[1:]) # exclude intercept\n",
    "word_coefficient_tuples = [(word, coefficient) for word, coefficient in zip(important_words, coefficients)]\n",
    "word_coefficient_tuples = sorted(word_coefficient_tuples, key=lambda x:x[1], reverse=True)"
   ]
  },
  {
   "cell_type": "code",
   "execution_count": 100,
   "metadata": {
    "collapsed": false
   },
   "outputs": [
    {
     "data": {
      "text/plain": [
       "[(u'great', 0.066546084170457709),\n",
       " (u'love', 0.065890762922123244),\n",
       " (u'easy', 0.064794586802578366),\n",
       " (u'little', 0.045435626308421351),\n",
       " (u'loves', 0.044976401394906045),\n",
       " (u'well', 0.030135001092107046),\n",
       " (u'perfect', 0.029739937104968465),\n",
       " (u'old', 0.020077541034775374),\n",
       " (u'nice', 0.018408707995268978),\n",
       " (u'daughter', 0.0177031999057017),\n",
       " (u'soft', 0.01757027224560289),\n",
       " (u'fits', 0.016882471071408719),\n",
       " (u'happy', 0.01680529588976807),\n",
       " (u'baby', 0.015565696580423491),\n",
       " (u'recommend', 0.015408450108008679),\n",
       " (u'also', 0.015216196422918854),\n",
       " (u'best', 0.014991791565630264),\n",
       " (u'comfortable', 0.013253990081584904),\n",
       " (u'car', 0.012685935745813373),\n",
       " (u'clean', 0.01201817443336553),\n",
       " (u'son', 0.011944817713693956),\n",
       " (u'bit', 0.011708248093123253),\n",
       " (u'works', 0.011703160621987431),\n",
       " (u'size', 0.010715966516270299),\n",
       " (u'stroller', 0.0099091646359727309),\n",
       " (u'room', 0.0097832410215680614),\n",
       " (u'price', 0.0095727335435901693),\n",
       " (u'play', 0.0091784289839843148),\n",
       " (u'easily', 0.0090328181389543998),\n",
       " (u'kids', 0.0085828430043465263),\n",
       " (u'still', 0.0082646669453744596),\n",
       " (u'lot', 0.007999389349248329),\n",
       " (u'around', 0.0075089180973143465),\n",
       " (u'need', 0.0071719072700270935),\n",
       " (u'take', 0.0067101233146641716),\n",
       " (u'keep', 0.0064376680818701805),\n",
       " (u'crib', 0.0060027997886387),\n",
       " (u'without', 0.0059235361132202744),\n",
       " (u'year', 0.0057332000284878925),\n",
       " (u'set', 0.0056747899080565687),\n",
       " (u'cute', 0.005537512364059036),\n",
       " (u'use', 0.005017438816565415),\n",
       " (u'big', 0.0046066187619706028),\n",
       " (u'diaper', 0.0042793828903547673),\n",
       " (u'wish', 0.0040203765080997506),\n",
       " (u'seat', 0.0039835336394136046),\n",
       " (u'though', 0.003344899595086292),\n",
       " (u'every', 0.003081478639854039),\n",
       " (u'enough', 0.0030678550129901077),\n",
       " (u'able', 0.00298030675066126),\n",
       " (u'bag', 0.002861787516105203),\n",
       " (u'babies', 0.0028581898513427391),\n",
       " (u'seems', 0.0028153321886465305),\n",
       " (u'night', 0.0028082590666831438),\n",
       " (u'good', 0.0027682039063976799),\n",
       " (u'many', 0.0026466106385121323),\n",
       " (u'makes', 0.0023134923740490221),\n",
       " (u'pretty', 0.0022363904560238445),\n",
       " (u'long', 0.0021872401621619419),\n",
       " (u'think', 0.0017456314732199867),\n",
       " (u'toy', 0.0017230705102314376),\n",
       " (u'since', 0.0015547861236921174),\n",
       " (u'looking', 0.0015347116392846493),\n",
       " (u'us', 0.0015136828514065346),\n",
       " (u'purchase', 0.0012225783235106395),\n",
       " (u'put', 0.00089923908141546348),\n",
       " (u'cover', 0.00082925115999595424),\n",
       " (u'used', 0.00061012880897525943),\n",
       " (u'found', 0.00041209171300655528),\n",
       " (u'really', 0.00027259206246775134),\n",
       " (u'won', 0.00011988500346780872),\n",
       " (u'go', 9.9166682748142885e-05),\n",
       " (u'looks', 1.3669928550230396e-05),\n",
       " (u'high', -0.00018648923566776465),\n",
       " (u'day', -0.00018857228050011079),\n",
       " (u'bottles', -0.00033566600034981759),\n",
       " (u'chair', -0.00051596048462623052),\n",
       " (u'using', -0.0006573503620923495),\n",
       " (u'side', -0.00086139044376869244),\n",
       " (u'worth', -0.00097621967562233625),\n",
       " (u'almost', -0.0011449351626316184),\n",
       " (u'hold', -0.0012476158571719663),\n",
       " (u'months', -0.0013621951573487394),\n",
       " (u'look', -0.0016457514473845515),\n",
       " (u'sure', -0.0016689531424132912),\n",
       " (u'find', -0.001941995510954018),\n",
       " (u'amazon', -0.0019732093718961645),\n",
       " (u'month', -0.0022031766056230737),\n",
       " (u'getting', -0.0022203440239695676),\n",
       " (u'come', -0.0024780569860886597),\n",
       " (u'second', -0.0030186660106671847),\n",
       " (u'head', -0.0030257887493927997),\n",
       " (u'small', -0.00305345475933087),\n",
       " (u'place', -0.0033188773175082051),\n",
       " (u'together', -0.0034133092891886567),\n",
       " (u'want', -0.003480885231408438),\n",
       " (u'like', -0.0035048841333352311),\n",
       " (u'give', -0.003509845157568249),\n",
       " (u'say', -0.003736943858748521),\n",
       " (u'wanted', -0.0038141640936843104),\n",
       " (u'know', -0.0040749701003517059),\n",
       " (u'took', -0.0042664438640147096),\n",
       " (u'much', -0.0043970006745094325),\n",
       " (u'see', -0.0046597374068885651),\n",
       " (u'purchased', -0.0047899094286734025),\n",
       " (u'fit', -0.004795795278093022),\n",
       " (u'gate', -0.0050129173061971271),\n",
       " (u'bottle', -0.0050408216362491489),\n",
       " (u'different', -0.0050412750790588138),\n",
       " (u'came', -0.0051011560842950613),\n",
       " (u'however', -0.0051028797848771115),\n",
       " (u'make', -0.0052058842106071559),\n",
       " (u'new', -0.0052878621959721577),\n",
       " (u'buying', -0.0054430034643825984),\n",
       " (u'last', -0.0054701615413924373),\n",
       " (u'actually', -0.0056057334752514171),\n",
       " (u'less', -0.0056549872222576968),\n",
       " (u'child', -0.0060871403023475537),\n",
       " (u'started', -0.0062628315031623104),\n",
       " (u'instead', -0.0063001267181794643),\n",
       " (u'water', -0.006300542962225545),\n",
       " (u'maybe', -0.0064009893446270233),\n",
       " (u'problem', -0.0064095891550037835),\n",
       " (u'right', -0.0064136885850504767),\n",
       " (u'tub', -0.0064758768730180886),\n",
       " (u'said', -0.0067628971751120259),\n",
       " (u'went', -0.0068705023944023828),\n",
       " (u'quality', -0.0069101081121460423),\n",
       " (u'pump', -0.0069528691490619394),\n",
       " (u'top', -0.0070079191164656805),\n",
       " (u'part', -0.0070417199084278079),\n",
       " (u'ordered', -0.007075730981647349),\n",
       " (u'either', -0.0070920593441351426),\n",
       " (u'bottom', -0.00722098801208857),\n",
       " (u'anything', -0.0072241994259100951),\n",
       " (u'made', -0.0073534593690945359),\n",
       " (u'weeks', -0.0073726305977644107),\n",
       " (u'design', -0.007732287817370993),\n",
       " (u'times', -0.0077641878083142477),\n",
       " (u'picture', -0.0081015029526760162),\n",
       " (u'away', -0.0083178298076960946),\n",
       " (u'one', -0.0085020467457573943),\n",
       " (u'milk', -0.0089357286159934789),\n",
       " (u'stay', -0.0090665333735902142),\n",
       " (u'open', -0.0091204919107482751),\n",
       " (u'cup', -0.0092591440431899832),\n",
       " (u'worked', -0.0093152081919567163),\n",
       " (u'trying', -0.0098742479801358762),\n",
       " (u'completely', -0.010006213059178756),\n",
       " (u'got', -0.010147655511657557),\n",
       " (u'difficult', -0.010219204790778671),\n",
       " (u'piece', -0.010282634317735406),\n",
       " (u'two', -0.010576801537792882),\n",
       " (u'box', -0.010669132724912938),\n",
       " (u'going', -0.010770935491004769),\n",
       " (u'try', -0.010918793208793002),\n",
       " (u'another', -0.010950912169649826),\n",
       " (u'unit', -0.011523047555497197),\n",
       " (u'working', -0.011895059489782875),\n",
       " (u'idea', -0.012101030310887903),\n",
       " (u'bought', -0.012170641997242552),\n",
       " (u'company', -0.012506394670958824),\n",
       " (u'received', -0.012605189953662305),\n",
       " (u'bad', -0.012754571329579802),\n",
       " (u'something', -0.012808838024750812),\n",
       " (u'never', -0.012969046546319299),\n",
       " (u'first', -0.013213475301677057),\n",
       " (u'hard', -0.013756676731261406),\n",
       " (u'thing', -0.013868727265297585),\n",
       " (u'cheap', -0.014709833465080669),\n",
       " (u'reviews', -0.014866319449976986),\n",
       " (u'plastic', -0.014977044903587944),\n",
       " (u'better', -0.015040658977043393),\n",
       " (u'broke', -0.015537698955653894),\n",
       " (u'returned', -0.016001798500102509),\n",
       " (u'item', -0.017137867010854787),\n",
       " (u'buy', -0.017737543997218046),\n",
       " (u'time', -0.01824619348608705),\n",
       " (u'way', -0.018359460662945689),\n",
       " (u'tried', -0.018702371424325841),\n",
       " (u'could', -0.019846256660777221),\n",
       " (u'thought', -0.021394348543682475),\n",
       " (u'waste', -0.024042748071154953),\n",
       " (u'monitor', -0.02448210054589172),\n",
       " (u'return', -0.026592778462247273),\n",
       " (u'back', -0.027742697230661324),\n",
       " (u'get', -0.028711552980192595),\n",
       " (u'disappointed', -0.028978976142317068),\n",
       " (u'even', -0.030051249236035811),\n",
       " (u'work', -0.03306951529475273),\n",
       " (u'money', -0.038982037286487116),\n",
       " (u'product', -0.041511033392108924),\n",
       " (u'would', -0.053860148445203156)]"
      ]
     },
     "execution_count": 100,
     "metadata": {},
     "output_type": "execute_result"
    }
   ],
   "source": [
    "word_coefficient_tuples"
   ]
  },
  {
   "cell_type": "code",
   "execution_count": 97,
   "metadata": {
    "collapsed": true
   },
   "outputs": [],
   "source": [
    "negative_word_coefficient_tuples = sorted(word_coefficient_tuples, key=lambda x:x[1])"
   ]
  },
  {
   "cell_type": "code",
   "execution_count": 98,
   "metadata": {
    "collapsed": false
   },
   "outputs": [
    {
     "data": {
      "text/plain": [
       "[(u'would', -0.053860148445203156),\n",
       " (u'product', -0.041511033392108924),\n",
       " (u'money', -0.038982037286487116),\n",
       " (u'work', -0.03306951529475273),\n",
       " (u'even', -0.030051249236035811),\n",
       " (u'disappointed', -0.028978976142317068),\n",
       " (u'get', -0.028711552980192595),\n",
       " (u'back', -0.027742697230661324),\n",
       " (u'return', -0.026592778462247273),\n",
       " (u'monitor', -0.02448210054589172),\n",
       " (u'waste', -0.024042748071154953),\n",
       " (u'thought', -0.021394348543682475),\n",
       " (u'could', -0.019846256660777221),\n",
       " (u'tried', -0.018702371424325841),\n",
       " (u'way', -0.018359460662945689),\n",
       " (u'time', -0.01824619348608705),\n",
       " (u'buy', -0.017737543997218046),\n",
       " (u'item', -0.017137867010854787),\n",
       " (u'returned', -0.016001798500102509),\n",
       " (u'broke', -0.015537698955653894),\n",
       " (u'better', -0.015040658977043393),\n",
       " (u'plastic', -0.014977044903587944),\n",
       " (u'reviews', -0.014866319449976986),\n",
       " (u'cheap', -0.014709833465080669),\n",
       " (u'thing', -0.013868727265297585),\n",
       " (u'hard', -0.013756676731261406),\n",
       " (u'first', -0.013213475301677057),\n",
       " (u'never', -0.012969046546319299),\n",
       " (u'something', -0.012808838024750812),\n",
       " (u'bad', -0.012754571329579802),\n",
       " (u'received', -0.012605189953662305),\n",
       " (u'company', -0.012506394670958824),\n",
       " (u'bought', -0.012170641997242552),\n",
       " (u'idea', -0.012101030310887903),\n",
       " (u'working', -0.011895059489782875),\n",
       " (u'unit', -0.011523047555497197),\n",
       " (u'another', -0.010950912169649826),\n",
       " (u'try', -0.010918793208793002),\n",
       " (u'going', -0.010770935491004769),\n",
       " (u'box', -0.010669132724912938),\n",
       " (u'two', -0.010576801537792882),\n",
       " (u'piece', -0.010282634317735406),\n",
       " (u'difficult', -0.010219204790778671),\n",
       " (u'got', -0.010147655511657557),\n",
       " (u'completely', -0.010006213059178756),\n",
       " (u'trying', -0.0098742479801358762),\n",
       " (u'worked', -0.0093152081919567163),\n",
       " (u'cup', -0.0092591440431899832),\n",
       " (u'open', -0.0091204919107482751),\n",
       " (u'stay', -0.0090665333735902142),\n",
       " (u'milk', -0.0089357286159934789),\n",
       " (u'one', -0.0085020467457573943),\n",
       " (u'away', -0.0083178298076960946),\n",
       " (u'picture', -0.0081015029526760162),\n",
       " (u'times', -0.0077641878083142477),\n",
       " (u'design', -0.007732287817370993),\n",
       " (u'weeks', -0.0073726305977644107),\n",
       " (u'made', -0.0073534593690945359),\n",
       " (u'anything', -0.0072241994259100951),\n",
       " (u'bottom', -0.00722098801208857),\n",
       " (u'either', -0.0070920593441351426),\n",
       " (u'ordered', -0.007075730981647349),\n",
       " (u'part', -0.0070417199084278079),\n",
       " (u'top', -0.0070079191164656805),\n",
       " (u'pump', -0.0069528691490619394),\n",
       " (u'quality', -0.0069101081121460423),\n",
       " (u'went', -0.0068705023944023828),\n",
       " (u'said', -0.0067628971751120259),\n",
       " (u'tub', -0.0064758768730180886),\n",
       " (u'right', -0.0064136885850504767),\n",
       " (u'problem', -0.0064095891550037835),\n",
       " (u'maybe', -0.0064009893446270233),\n",
       " (u'water', -0.006300542962225545),\n",
       " (u'instead', -0.0063001267181794643),\n",
       " (u'started', -0.0062628315031623104),\n",
       " (u'child', -0.0060871403023475537),\n",
       " (u'less', -0.0056549872222576968),\n",
       " (u'actually', -0.0056057334752514171),\n",
       " (u'last', -0.0054701615413924373),\n",
       " (u'buying', -0.0054430034643825984),\n",
       " (u'new', -0.0052878621959721577),\n",
       " (u'make', -0.0052058842106071559),\n",
       " (u'however', -0.0051028797848771115),\n",
       " (u'came', -0.0051011560842950613),\n",
       " (u'different', -0.0050412750790588138),\n",
       " (u'bottle', -0.0050408216362491489),\n",
       " (u'gate', -0.0050129173061971271),\n",
       " (u'fit', -0.004795795278093022),\n",
       " (u'purchased', -0.0047899094286734025),\n",
       " (u'see', -0.0046597374068885651),\n",
       " (u'much', -0.0043970006745094325),\n",
       " (u'took', -0.0042664438640147096),\n",
       " (u'know', -0.0040749701003517059),\n",
       " (u'wanted', -0.0038141640936843104),\n",
       " (u'say', -0.003736943858748521),\n",
       " (u'give', -0.003509845157568249),\n",
       " (u'like', -0.0035048841333352311),\n",
       " (u'want', -0.003480885231408438),\n",
       " (u'together', -0.0034133092891886567),\n",
       " (u'place', -0.0033188773175082051),\n",
       " (u'small', -0.00305345475933087),\n",
       " (u'head', -0.0030257887493927997),\n",
       " (u'second', -0.0030186660106671847),\n",
       " (u'come', -0.0024780569860886597),\n",
       " (u'getting', -0.0022203440239695676),\n",
       " (u'month', -0.0022031766056230737),\n",
       " (u'amazon', -0.0019732093718961645),\n",
       " (u'find', -0.001941995510954018),\n",
       " (u'sure', -0.0016689531424132912),\n",
       " (u'look', -0.0016457514473845515),\n",
       " (u'months', -0.0013621951573487394),\n",
       " (u'hold', -0.0012476158571719663),\n",
       " (u'almost', -0.0011449351626316184),\n",
       " (u'worth', -0.00097621967562233625),\n",
       " (u'side', -0.00086139044376869244),\n",
       " (u'using', -0.0006573503620923495),\n",
       " (u'chair', -0.00051596048462623052),\n",
       " (u'bottles', -0.00033566600034981759),\n",
       " (u'day', -0.00018857228050011079),\n",
       " (u'high', -0.00018648923566776465),\n",
       " (u'looks', 1.3669928550230396e-05),\n",
       " (u'go', 9.9166682748142885e-05),\n",
       " (u'won', 0.00011988500346780872),\n",
       " (u'really', 0.00027259206246775134),\n",
       " (u'found', 0.00041209171300655528),\n",
       " (u'used', 0.00061012880897525943),\n",
       " (u'cover', 0.00082925115999595424),\n",
       " (u'put', 0.00089923908141546348),\n",
       " (u'purchase', 0.0012225783235106395),\n",
       " (u'us', 0.0015136828514065346),\n",
       " (u'looking', 0.0015347116392846493),\n",
       " (u'since', 0.0015547861236921174),\n",
       " (u'toy', 0.0017230705102314376),\n",
       " (u'think', 0.0017456314732199867),\n",
       " (u'long', 0.0021872401621619419),\n",
       " (u'pretty', 0.0022363904560238445),\n",
       " (u'makes', 0.0023134923740490221),\n",
       " (u'many', 0.0026466106385121323),\n",
       " (u'good', 0.0027682039063976799),\n",
       " (u'night', 0.0028082590666831438),\n",
       " (u'seems', 0.0028153321886465305),\n",
       " (u'babies', 0.0028581898513427391),\n",
       " (u'bag', 0.002861787516105203),\n",
       " (u'able', 0.00298030675066126),\n",
       " (u'enough', 0.0030678550129901077),\n",
       " (u'every', 0.003081478639854039),\n",
       " (u'though', 0.003344899595086292),\n",
       " (u'seat', 0.0039835336394136046),\n",
       " (u'wish', 0.0040203765080997506),\n",
       " (u'diaper', 0.0042793828903547673),\n",
       " (u'big', 0.0046066187619706028),\n",
       " (u'use', 0.005017438816565415),\n",
       " (u'cute', 0.005537512364059036),\n",
       " (u'set', 0.0056747899080565687),\n",
       " (u'year', 0.0057332000284878925),\n",
       " (u'without', 0.0059235361132202744),\n",
       " (u'crib', 0.0060027997886387),\n",
       " (u'keep', 0.0064376680818701805),\n",
       " (u'take', 0.0067101233146641716),\n",
       " (u'need', 0.0071719072700270935),\n",
       " (u'around', 0.0075089180973143465),\n",
       " (u'lot', 0.007999389349248329),\n",
       " (u'still', 0.0082646669453744596),\n",
       " (u'kids', 0.0085828430043465263),\n",
       " (u'easily', 0.0090328181389543998),\n",
       " (u'play', 0.0091784289839843148),\n",
       " (u'price', 0.0095727335435901693),\n",
       " (u'room', 0.0097832410215680614),\n",
       " (u'stroller', 0.0099091646359727309),\n",
       " (u'size', 0.010715966516270299),\n",
       " (u'works', 0.011703160621987431),\n",
       " (u'bit', 0.011708248093123253),\n",
       " (u'son', 0.011944817713693956),\n",
       " (u'clean', 0.01201817443336553),\n",
       " (u'car', 0.012685935745813373),\n",
       " (u'comfortable', 0.013253990081584904),\n",
       " (u'best', 0.014991791565630264),\n",
       " (u'also', 0.015216196422918854),\n",
       " (u'recommend', 0.015408450108008679),\n",
       " (u'baby', 0.015565696580423491),\n",
       " (u'happy', 0.01680529588976807),\n",
       " (u'fits', 0.016882471071408719),\n",
       " (u'soft', 0.01757027224560289),\n",
       " (u'daughter', 0.0177031999057017),\n",
       " (u'nice', 0.018408707995268978),\n",
       " (u'old', 0.020077541034775374),\n",
       " (u'perfect', 0.029739937104968465),\n",
       " (u'well', 0.030135001092107046),\n",
       " (u'loves', 0.044976401394906045),\n",
       " (u'little', 0.045435626308421351),\n",
       " (u'easy', 0.064794586802578366),\n",
       " (u'love', 0.065890762922123244),\n",
       " (u'great', 0.066546084170457709)]"
      ]
     },
     "execution_count": 98,
     "metadata": {},
     "output_type": "execute_result"
    }
   ],
   "source": [
    "negative_word_coefficient_tuples"
   ]
  },
  {
   "cell_type": "code",
   "execution_count": null,
   "metadata": {
    "collapsed": true
   },
   "outputs": [],
   "source": []
  }
 ],
 "metadata": {
  "kernelspec": {
   "display_name": "Python 2",
   "language": "python",
   "name": "python2"
  },
  "language_info": {
   "codemirror_mode": {
    "name": "ipython",
    "version": 2
   },
   "file_extension": ".py",
   "mimetype": "text/x-python",
   "name": "python",
   "nbconvert_exporter": "python",
   "pygments_lexer": "ipython2",
   "version": "2.7.11"
  }
 },
 "nbformat": 4,
 "nbformat_minor": 0
}
