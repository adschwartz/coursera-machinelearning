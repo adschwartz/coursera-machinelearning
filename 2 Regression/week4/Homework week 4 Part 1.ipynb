{
 "cells": [
  {
   "cell_type": "markdown",
   "metadata": {},
   "source": [
    "#### Machine Learning: Regression (Module 2, week 4) - Ridge Regression\n",
    "Keywords: Ridge regression, L2 Penalty, polynomial regression, bias-variance tradeoff, overfitting. "
   ]
  },
  {
   "cell_type": "code",
   "execution_count": 5,
   "metadata": {
    "collapsed": false
   },
   "outputs": [],
   "source": [
    "import pandas as pd\n",
    "import numpy as np\n",
    "import math\n",
    "import matplotlib.pyplot as plt\n",
    "%matplotlib inline\n",
    "from sklearn import linear_model"
   ]
  },
  {
   "cell_type": "code",
   "execution_count": 6,
   "metadata": {
    "collapsed": true
   },
   "outputs": [],
   "source": [
    "dtype_dict = {'bathrooms':float, 'waterfront':int, 'sqft_above':int, 'sqft_living15':float, 'grade':int, 'yr_renovated':int, 'price':float, 'bedrooms':float, 'zipcode':str, 'long':float, 'sqft_lot15':float, 'sqft_living':float, 'floors':str, 'condition':int, 'lat':float, 'date':str, 'sqft_basement':int, 'yr_built':int, 'id':str, 'sqft_lot':int, 'view':int}"
   ]
  },
  {
   "cell_type": "code",
   "execution_count": 7,
   "metadata": {
    "collapsed": true
   },
   "outputs": [],
   "source": [
    "def polynomial_dataframe(feature, degree): # feature is pandas.Series type\n",
    "    poly_dataframe = pd.DataFrame()\n",
    "    poly_dataframe['power_1'] = feature\n",
    "    if degree > 1:\n",
    "        for power in range(2, degree+1):\n",
    "            name = 'power_' + str(power)\n",
    "            poly_dataframe[name] = feature.pow(power)\n",
    "    return poly_dataframe"
   ]
  },
  {
   "cell_type": "code",
   "execution_count": 88,
   "metadata": {
    "collapsed": false
   },
   "outputs": [],
   "source": [
    "def fit(features, target, alpha):\n",
    "    regr = linear_model.Ridge(alpha=alpha, normalize=True, fit_intercept=True)\n",
    "    model = regr.fit(X=features.as_matrix(), y=target)\n",
    "    intercept = model.intercept_\n",
    "    coefficients = model.coef_\n",
    "    print \"Intercept: \", intercept\n",
    "    print \"Coefficients: \", coefficients\n",
    "    return intercept, coefficients, model"
   ]
  },
  {
   "cell_type": "code",
   "execution_count": 24,
   "metadata": {
    "collapsed": true
   },
   "outputs": [],
   "source": [
    "def plot(features, output, model):\n",
    "    plt.scatter(features['power_1'], output, color='blue', label='Output')\n",
    "    plt.plot(features['power_1'], model.predict(features), 'r', label='Regression')\n",
    "    plt.ylabel('Price')\n",
    "    plt.xlabel('Sq.ft.')"
   ]
  },
  {
   "cell_type": "code",
   "execution_count": 57,
   "metadata": {
    "collapsed": true
   },
   "outputs": [],
   "source": [
    "def fit_plot(features, power, output, alpha):\n",
    "    poly_data = polynomial_dataframe(features, power)\n",
    "    intercept, coefficients, model = fit(poly_data, output, alpha)\n",
    "    plot(poly_data, output, model)"
   ]
  },
  {
   "cell_type": "code",
   "execution_count": 12,
   "metadata": {
    "collapsed": false
   },
   "outputs": [],
   "source": [
    "sales = pd.read_csv('kc_house_data.csv', dtype=dtype_dict)\n",
    "sales = sales.sort_values(by=['sqft_living','price'])"
   ]
  },
  {
   "cell_type": "code",
   "execution_count": 13,
   "metadata": {
    "collapsed": false
   },
   "outputs": [
    {
     "data": {
      "text/html": [
       "<div>\n",
       "<table border=\"1\" class=\"dataframe\">\n",
       "  <thead>\n",
       "    <tr style=\"text-align: right;\">\n",
       "      <th></th>\n",
       "      <th>id</th>\n",
       "      <th>date</th>\n",
       "      <th>price</th>\n",
       "      <th>bedrooms</th>\n",
       "      <th>bathrooms</th>\n",
       "      <th>sqft_living</th>\n",
       "      <th>sqft_lot</th>\n",
       "      <th>floors</th>\n",
       "      <th>waterfront</th>\n",
       "      <th>view</th>\n",
       "      <th>...</th>\n",
       "      <th>grade</th>\n",
       "      <th>sqft_above</th>\n",
       "      <th>sqft_basement</th>\n",
       "      <th>yr_built</th>\n",
       "      <th>yr_renovated</th>\n",
       "      <th>zipcode</th>\n",
       "      <th>lat</th>\n",
       "      <th>long</th>\n",
       "      <th>sqft_living15</th>\n",
       "      <th>sqft_lot15</th>\n",
       "    </tr>\n",
       "  </thead>\n",
       "  <tbody>\n",
       "    <tr>\n",
       "      <th>19452</th>\n",
       "      <td>3980300371</td>\n",
       "      <td>20140926T000000</td>\n",
       "      <td>142000.0</td>\n",
       "      <td>0.0</td>\n",
       "      <td>0.00</td>\n",
       "      <td>290.0</td>\n",
       "      <td>20875</td>\n",
       "      <td>1</td>\n",
       "      <td>0</td>\n",
       "      <td>0</td>\n",
       "      <td>...</td>\n",
       "      <td>1</td>\n",
       "      <td>290</td>\n",
       "      <td>0</td>\n",
       "      <td>1963</td>\n",
       "      <td>0</td>\n",
       "      <td>98024</td>\n",
       "      <td>47.5308</td>\n",
       "      <td>-121.888</td>\n",
       "      <td>1620.0</td>\n",
       "      <td>22850.0</td>\n",
       "    </tr>\n",
       "    <tr>\n",
       "      <th>15381</th>\n",
       "      <td>2856101479</td>\n",
       "      <td>20140701T000000</td>\n",
       "      <td>276000.0</td>\n",
       "      <td>1.0</td>\n",
       "      <td>0.75</td>\n",
       "      <td>370.0</td>\n",
       "      <td>1801</td>\n",
       "      <td>1</td>\n",
       "      <td>0</td>\n",
       "      <td>0</td>\n",
       "      <td>...</td>\n",
       "      <td>5</td>\n",
       "      <td>370</td>\n",
       "      <td>0</td>\n",
       "      <td>1923</td>\n",
       "      <td>0</td>\n",
       "      <td>98117</td>\n",
       "      <td>47.6778</td>\n",
       "      <td>-122.389</td>\n",
       "      <td>1340.0</td>\n",
       "      <td>5000.0</td>\n",
       "    </tr>\n",
       "    <tr>\n",
       "      <th>860</th>\n",
       "      <td>1723049033</td>\n",
       "      <td>20140620T000000</td>\n",
       "      <td>245000.0</td>\n",
       "      <td>1.0</td>\n",
       "      <td>0.75</td>\n",
       "      <td>380.0</td>\n",
       "      <td>15000</td>\n",
       "      <td>1</td>\n",
       "      <td>0</td>\n",
       "      <td>0</td>\n",
       "      <td>...</td>\n",
       "      <td>5</td>\n",
       "      <td>380</td>\n",
       "      <td>0</td>\n",
       "      <td>1963</td>\n",
       "      <td>0</td>\n",
       "      <td>98168</td>\n",
       "      <td>47.4810</td>\n",
       "      <td>-122.323</td>\n",
       "      <td>1170.0</td>\n",
       "      <td>15000.0</td>\n",
       "    </tr>\n",
       "    <tr>\n",
       "      <th>18379</th>\n",
       "      <td>1222029077</td>\n",
       "      <td>20141029T000000</td>\n",
       "      <td>265000.0</td>\n",
       "      <td>0.0</td>\n",
       "      <td>0.75</td>\n",
       "      <td>384.0</td>\n",
       "      <td>213444</td>\n",
       "      <td>1</td>\n",
       "      <td>0</td>\n",
       "      <td>0</td>\n",
       "      <td>...</td>\n",
       "      <td>4</td>\n",
       "      <td>384</td>\n",
       "      <td>0</td>\n",
       "      <td>2003</td>\n",
       "      <td>0</td>\n",
       "      <td>98070</td>\n",
       "      <td>47.4177</td>\n",
       "      <td>-122.491</td>\n",
       "      <td>1920.0</td>\n",
       "      <td>224341.0</td>\n",
       "    </tr>\n",
       "    <tr>\n",
       "      <th>4868</th>\n",
       "      <td>6896300380</td>\n",
       "      <td>20141002T000000</td>\n",
       "      <td>228000.0</td>\n",
       "      <td>0.0</td>\n",
       "      <td>1.00</td>\n",
       "      <td>390.0</td>\n",
       "      <td>5900</td>\n",
       "      <td>1</td>\n",
       "      <td>0</td>\n",
       "      <td>0</td>\n",
       "      <td>...</td>\n",
       "      <td>4</td>\n",
       "      <td>390</td>\n",
       "      <td>0</td>\n",
       "      <td>1953</td>\n",
       "      <td>0</td>\n",
       "      <td>98118</td>\n",
       "      <td>47.5260</td>\n",
       "      <td>-122.261</td>\n",
       "      <td>2170.0</td>\n",
       "      <td>6000.0</td>\n",
       "    </tr>\n",
       "  </tbody>\n",
       "</table>\n",
       "<p>5 rows × 21 columns</p>\n",
       "</div>"
      ],
      "text/plain": [
       "               id             date     price  bedrooms  bathrooms  \\\n",
       "19452  3980300371  20140926T000000  142000.0       0.0       0.00   \n",
       "15381  2856101479  20140701T000000  276000.0       1.0       0.75   \n",
       "860    1723049033  20140620T000000  245000.0       1.0       0.75   \n",
       "18379  1222029077  20141029T000000  265000.0       0.0       0.75   \n",
       "4868   6896300380  20141002T000000  228000.0       0.0       1.00   \n",
       "\n",
       "       sqft_living  sqft_lot floors  waterfront  view     ...      grade  \\\n",
       "19452        290.0     20875      1           0     0     ...          1   \n",
       "15381        370.0      1801      1           0     0     ...          5   \n",
       "860          380.0     15000      1           0     0     ...          5   \n",
       "18379        384.0    213444      1           0     0     ...          4   \n",
       "4868         390.0      5900      1           0     0     ...          4   \n",
       "\n",
       "       sqft_above  sqft_basement  yr_built  yr_renovated  zipcode      lat  \\\n",
       "19452         290              0      1963             0    98024  47.5308   \n",
       "15381         370              0      1923             0    98117  47.6778   \n",
       "860           380              0      1963             0    98168  47.4810   \n",
       "18379         384              0      2003             0    98070  47.4177   \n",
       "4868          390              0      1953             0    98118  47.5260   \n",
       "\n",
       "          long  sqft_living15  sqft_lot15  \n",
       "19452 -121.888         1620.0     22850.0  \n",
       "15381 -122.389         1340.0      5000.0  \n",
       "860   -122.323         1170.0     15000.0  \n",
       "18379 -122.491         1920.0    224341.0  \n",
       "4868  -122.261         2170.0      6000.0  \n",
       "\n",
       "[5 rows x 21 columns]"
      ]
     },
     "execution_count": 13,
     "metadata": {},
     "output_type": "execute_result"
    }
   ],
   "source": [
    "sales.head()"
   ]
  },
  {
   "cell_type": "code",
   "execution_count": 58,
   "metadata": {
    "collapsed": false
   },
   "outputs": [
    {
     "name": "stdout",
     "output_type": "stream",
     "text": [
      "Intercept:  220664.375054\n",
      "Coefficients:  [  1.24873306e+02  -4.77376011e-02   3.01446238e-05  -2.44419942e-09\n",
      "  -1.94153675e-13   8.54085686e-18   1.51142121e-21   8.27979094e-26\n",
      "   6.52603100e-31  -3.27895017e-34  -3.87962315e-38  -2.72437650e-42\n",
      "  -1.07790800e-46   3.78242694e-51   1.39790296e-54]\n"
     ]
    },
    {
     "data": {
      "image/png": "[encoded data removed]",
      "text/plain": [
       "<matplotlib.figure.Figure at 0x11a0caa10>"
      ]
     },
     "metadata": {},
     "output_type": "display_data"
    }
   ],
   "source": [
    "alpha = 1.5e-5\n",
    "fit_plot(sales['sqft_living'], 15, sales['price'], alpha)"
   ]
  },
  {
   "cell_type": "markdown",
   "metadata": {},
   "source": [
    "## 15th degree polynomial for 4 sets:"
   ]
  },
  {
   "cell_type": "code",
   "execution_count": 50,
   "metadata": {
    "collapsed": false
   },
   "outputs": [
    {
     "name": "stdout",
     "output_type": "stream",
     "text": [
      "Intercept:  23888.8243547\n",
      "Coefficients:  [  5.44669402e+02  -3.55447609e-01   1.22446383e-04  -1.17175319e-08\n",
      "  -3.90512390e-13  -1.39076337e-17   1.47860303e-20   6.87491766e-25\n",
      "  -7.57203973e-29  -1.04097309e-32  -3.71844070e-37   3.39989306e-41\n",
      "   5.56592040e-45   2.53761332e-49  -3.35152892e-53]\n",
      "Intercept:  -55614.6326304\n",
      "Coefficients:  [  8.59362624e+02  -8.18118245e-01   4.28879962e-04  -9.12770589e-08\n",
      "  -2.69604559e-12   3.73980323e-15  -1.42711896e-19  -6.30794739e-23\n",
      "  -1.44559537e-27   7.44321296e-31   9.25865931e-35   3.27992730e-41\n",
      "  -1.29543491e-42  -1.38781254e-46   1.66546439e-50]\n",
      "Intercept:  470987.849889\n",
      "Coefficients:  [ -7.55395885e+02   9.75579448e-01  -4.58945955e-04   7.77957984e-08\n",
      "   7.15013457e-12  -2.88601959e-15  -2.13678421e-20   3.38085209e-23\n",
      "   2.19178219e-27  -1.97067724e-31  -4.15993176e-35  -1.80196277e-39\n",
      "   3.19071179e-43   5.08457003e-47  -3.93304307e-51]\n",
      "Intercept:  -145655.611326\n",
      "Coefficients:  [  1.11944568e+03  -9.83760160e-01   3.38770856e-04   3.60377368e-08\n",
      "  -4.37814042e-11   5.77191671e-15   7.66795313e-19  -9.49297702e-23\n",
      "  -1.96030821e-26  -2.10882629e-32   3.31005080e-34   3.47733894e-38\n",
      "  -2.43039210e-42  -8.79553427e-46   6.44569758e-50]\n"
     ]
    },
    {
     "data": {
      "image/png": "[encoded data removed]",
      "text/plain": [
       "<matplotlib.figure.Figure at 0x11aac9310>"
      ]
     },
     "metadata": {},
     "output_type": "display_data"
    }
   ],
   "source": [
    "set_1 = pd.read_csv('wk3_kc_house_set_1_data.csv', dtype=dtype_dict)\n",
    "set_2 = pd.read_csv('wk3_kc_house_set_2_data.csv', dtype=dtype_dict)\n",
    "set_3 = pd.read_csv('wk3_kc_house_set_3_data.csv', dtype=dtype_dict)\n",
    "set_4 = pd.read_csv('wk3_kc_house_set_4_data.csv', dtype=dtype_dict)\n",
    "\n",
    "alpha = 1e-9\n",
    "fit_plot(set_1['sqft_living'], 15, set_1['price'], alpha)\n",
    "fit_plot(set_2['sqft_living'], 15, set_2['price'], alpha)\n",
    "fit_plot(set_3['sqft_living'], 15, set_3['price'], alpha)\n",
    "fit_plot(set_4['sqft_living'], 15, set_4['price'], alpha)"
   ]
  },
  {
   "cell_type": "code",
   "execution_count": 59,
   "metadata": {
    "collapsed": false
   },
   "outputs": [
    {
     "name": "stdout",
     "output_type": "stream",
     "text": [
      "Intercept:  539103.031058\n",
      "Coefficients:  [  2.32806803e+00   3.53621608e-04   3.31969692e-08   2.00082477e-12\n",
      "   1.11492559e-16   6.57786122e-21   4.12939525e-25   2.70393755e-29\n",
      "   1.81614763e-33   1.23824277e-37   8.51872481e-42   5.89455598e-46\n",
      "   4.09542560e-50   2.85464889e-54   1.99547476e-58]\n",
      "Intercept:  529853.025358\n",
      "Coefficients:  [  2.09756903e+00   3.90817483e-04   6.67189944e-08   8.90002997e-12\n",
      "   9.72639877e-16   9.69733682e-20   9.50564475e-24   9.44491031e-28\n",
      "   9.57191338e-32   9.86945155e-36   1.03101115e-39   1.08729784e-43\n",
      "   1.15453748e-47   1.23211305e-51   1.31986696e-55]\n",
      "Intercept:  533640.114097\n",
      "Coefficients:  [  2.28906258e+00   4.12472190e-04   6.08835345e-08   6.58572163e-12\n",
      "   6.15278155e-16   5.64446634e-20   5.28834396e-24   5.07091402e-28\n",
      "   4.94657273e-32   4.88043809e-36   4.85009106e-40   4.84161534e-44\n",
      "   4.84635021e-48   4.85883628e-52   4.87558469e-56]\n",
      "Intercept:  524562.969047\n",
      "Coefficients:  [  2.08596194e+00   4.05035772e-04   7.46864647e-08   1.13096608e-11\n",
      "   1.45864442e-15   1.73561251e-19   2.01609632e-23   2.34605255e-27\n",
      "   2.75636073e-31   3.27043069e-35   3.91046855e-39   4.70118041e-43\n",
      "   5.67212304e-47   6.85958087e-51   8.30843630e-55]\n"
     ]
    },
    {
     "data": {
      "image/png": "[encoded data removed]",
      "text/plain": [
       "<matplotlib.figure.Figure at 0x122be3610>"
      ]
     },
     "metadata": {},
     "output_type": "display_data"
    }
   ],
   "source": [
    "alpha = 1.23e2\n",
    "fit_plot(set_1['sqft_living'], 15, set_1['price'], alpha)\n",
    "fit_plot(set_2['sqft_living'], 15, set_2['price'], alpha)\n",
    "fit_plot(set_3['sqft_living'], 15, set_3['price'], alpha)\n",
    "fit_plot(set_4['sqft_living'], 15, set_4['price'], alpha)"
   ]
  },
  {
   "cell_type": "markdown",
   "metadata": {},
   "source": [
    "## Cross validation\n",
    "Perform cross validation from 1 to 15 degrees (15 polynomial powers) and pick the model with the lowest validation RSS."
   ]
  },
  {
   "cell_type": "code",
   "execution_count": 60,
   "metadata": {
    "collapsed": true
   },
   "outputs": [],
   "source": [
    "train_valid_shuffled = pd.read_csv('wk3_kc_house_train_valid_shuffled.csv', dtype=dtype_dict)\n",
    "test = pd.read_csv('wk3_kc_house_test_data.csv', dtype=dtype_dict)"
   ]
  },
  {
   "cell_type": "code",
   "execution_count": 70,
   "metadata": {
    "collapsed": true
   },
   "outputs": [],
   "source": [
    "def k_fold_cross_validation(k, l2_penalty, data, output):\n",
    "    n = len(data)\n",
    "    average_validation_error = 0.0\n",
    "    for i in xrange(k):\n",
    "        start = (n*i)/k\n",
    "        end = (n*(i+1))/k-1\n",
    "        validation_features = data[start:end+1]\n",
    "        validation_output = output[start:end+1]\n",
    "        training_features = data[0:start].append(data[end+1:n])\n",
    "        training_output = output[0:start].append(output[end+1:n])\n",
    "        intercept, coefficients, model = fit(training_features, training_output, alpha = l2_penalty)\n",
    "        average_validation_error += np.sum((validation_output - model.predict(validation_features))**2)\n",
    "    average_validation_error /= k\n",
    "    return average_validation_error"
   ]
  },
  {
   "cell_type": "markdown",
   "metadata": {},
   "source": [
    "### Minimize the error"
   ]
  },
  {
   "cell_type": "code",
   "execution_count": 83,
   "metadata": {
    "collapsed": false
   },
   "outputs": [
    {
     "name": "stdout",
     "output_type": "stream",
     "text": [
      "alpha =  1000.0  Error  2.64977361037e+14\n",
      "alpha =  3162.27766017  Error  2.65692935858e+14\n",
      "alpha =  10000.0  Error  2.65924368957e+14\n",
      "alpha =  31622.7766017  Error  2.65998081509e+14\n",
      "alpha =  100000.0  Error  2.66021444554e+14\n",
      "alpha =  316227.766017  Error  2.66028837919e+14\n",
      "alpha =  1000000.0  Error  2.66031176438e+14\n",
      "alpha =  3162277.66017  Error  2.66031915997e+14\n",
      "alpha =  10000000.0  Error  2.66032149871e+14\n",
      "alpha =  31622776.6017  Error  2.66032223829e+14\n",
      "alpha =  100000000.0  Error  2.66032247216e+14\n",
      "alpha =  316227766.017  Error  2.66032254612e+14\n",
      "alpha =  1000000000.0  Error  2.66032256951e+14\n",
      "Minimum error is:  2.64977361037e+14\n"
     ]
    }
   ],
   "source": [
    "power = 15\n",
    "shuffled_output = train_valid_shuffled['price']\n",
    "shuffled_features = polynomial_dataframe(train_valid_shuffled['sqft_living'], power)\n",
    "\n",
    "k = 10\n",
    "errors = []\n",
    "penalties = np.logspace(3, 9, num=13)\n",
    "for p in penalties:\n",
    "    average_error = k_fold_cross_validation(k, p, shuffled_features, shuffled_output)\n",
    "    errors.append(average_error)\n",
    "    print \"alpha = \",p,\" Error \", average_error\n",
    "    \n",
    "print \"Minimum error is: \", min(errors)"
   ]
  },
  {
   "cell_type": "markdown",
   "metadata": {},
   "source": [
    "### Retrain best model on full dataset"
   ]
  },
  {
   "cell_type": "code",
   "execution_count": 87,
   "metadata": {
    "collapsed": false
   },
   "outputs": [
    {
     "name": "stdout",
     "output_type": "stream",
     "text": [
      "RSS on test data:  2.83856861224e+14\n"
     ]
    }
   ],
   "source": [
    "intercept, coefficients, model = fit(shuffled_features, shuffled_output, alpha = 1000.0)\n",
    "test_output = test['price']\n",
    "test_features = polynomial_dataframe(test['sqft_living'], power)\n",
    "print \"RSS on test data: \", np.sum((test_output - model.predict(test_features))**2)"
   ]
  },
  {
   "cell_type": "code",
   "execution_count": null,
   "metadata": {
    "collapsed": true
   },
   "outputs": [],
   "source": []
  }
 ],
 "metadata": {
  "kernelspec": {
   "display_name": "Python 2",
   "language": "python",
   "name": "python2"
  },
  "language_info": {
   "codemirror_mode": {
    "name": "ipython",
    "version": 2
   },
   "file_extension": ".py",
   "mimetype": "text/x-python",
   "name": "python",
   "nbconvert_exporter": "python",
   "pygments_lexer": "ipython2",
   "version": "2.7.11"
  }
 },
 "nbformat": 4,
 "nbformat_minor": 0
}
