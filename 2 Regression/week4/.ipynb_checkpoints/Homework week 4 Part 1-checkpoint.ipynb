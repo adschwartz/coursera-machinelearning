{
 "cells": [
  {
   "cell_type": "markdown",
   "metadata": {},
   "source": [
    "## Machine Learning: Regression (Module 2, week 3)\n",
    "Keywords: Linear regression, polynomial regression, bias-variance tradeoff, overfitting."
   ]
  },
  {
   "cell_type": "code",
   "execution_count": 162,
   "metadata": {
    "collapsed": false
   },
   "outputs": [],
   "source": [
    "import pandas as pd\n",
    "import numpy as np\n",
    "import math\n",
    "import matplotlib.pyplot as plt\n",
    "%matplotlib inline\n",
    "from sklearn import linear_model"
   ]
  },
  {
   "cell_type": "code",
   "execution_count": 193,
   "metadata": {
    "collapsed": true
   },
   "outputs": [],
   "source": [
    "dtype_dict = {'bathrooms':float, 'waterfront':int, 'sqft_above':int, 'sqft_living15':float, 'grade':int, 'yr_renovated':int, 'price':float, 'bedrooms':float, 'zipcode':str, 'long':float, 'sqft_lot15':float, 'sqft_living':float, 'floors':str, 'condition':int, 'lat':float, 'date':str, 'sqft_basement':int, 'yr_built':int, 'id':str, 'sqft_lot':int, 'view':int}"
   ]
  },
  {
   "cell_type": "code",
   "execution_count": 194,
   "metadata": {
    "collapsed": true
   },
   "outputs": [],
   "source": [
    "def polynomial_dataframe(feature, degree): # feature is pandas.Series type\n",
    "    poly_dataframe = pd.DataFrame()\n",
    "    poly_dataframe['power_1'] = feature\n",
    "    if degree > 1:\n",
    "        for power in range(2, degree+1):\n",
    "            name = 'power_' + str(power)\n",
    "            poly_dataframe[name] = feature.pow(power)\n",
    "    return poly_dataframe"
   ]
  },
  {
   "cell_type": "code",
   "execution_count": 195,
   "metadata": {
    "collapsed": false
   },
   "outputs": [],
   "source": [
    "def fit(features, target):\n",
    "    regr = linear_model.LinearRegression()\n",
    "    model = regr.fit(X=features.as_matrix(), y=target)\n",
    "    intercept = model.intercept_\n",
    "    coefficients = model.coef_\n",
    "    print \"Intercept: \", intercept\n",
    "    print \"Coefficients: \", coefficients\n",
    "    return intercept, coefficients, model"
   ]
  },
  {
   "cell_type": "code",
   "execution_count": 196,
   "metadata": {
    "collapsed": true
   },
   "outputs": [],
   "source": [
    "def plot(features, output, model):\n",
    "    plt.scatter(features['power_1'], output, color='blue', label='Output')\n",
    "    plt.plot(features['power_1'], model.predict(features), 'r', label='Regression')\n",
    "    plt.ylabel('Price')\n",
    "    plt.xlabel('Sq.ft.')"
   ]
  },
  {
   "cell_type": "code",
   "execution_count": 204,
   "metadata": {
    "collapsed": true
   },
   "outputs": [],
   "source": [
    "def fit_plot(features, power, output):\n",
    "    poly_data = polynomial_dataframe(features, power)\n",
    "    intercept, coefficients, model = fit(poly_data, output)\n",
    "    plot(poly_data, output, model)"
   ]
  },
  {
   "cell_type": "code",
   "execution_count": 197,
   "metadata": {
    "collapsed": false
   },
   "outputs": [],
   "source": [
    "sales = pd.read_csv('kc_house_data.csv', dtype=dtype_dict)\n",
    "sales = sales.sort_values(by=['sqft_living','price'])"
   ]
  },
  {
   "cell_type": "code",
   "execution_count": 199,
   "metadata": {
    "collapsed": false
   },
   "outputs": [
    {
     "data": {
      "text/html": [
       "<div>\n",
       "<table border=\"1\" class=\"dataframe\">\n",
       "  <thead>\n",
       "    <tr style=\"text-align: right;\">\n",
       "      <th></th>\n",
       "      <th>id</th>\n",
       "      <th>date</th>\n",
       "      <th>price</th>\n",
       "      <th>bedrooms</th>\n",
       "      <th>bathrooms</th>\n",
       "      <th>sqft_living</th>\n",
       "      <th>sqft_lot</th>\n",
       "      <th>floors</th>\n",
       "      <th>waterfront</th>\n",
       "      <th>view</th>\n",
       "      <th>...</th>\n",
       "      <th>grade</th>\n",
       "      <th>sqft_above</th>\n",
       "      <th>sqft_basement</th>\n",
       "      <th>yr_built</th>\n",
       "      <th>yr_renovated</th>\n",
       "      <th>zipcode</th>\n",
       "      <th>lat</th>\n",
       "      <th>long</th>\n",
       "      <th>sqft_living15</th>\n",
       "      <th>sqft_lot15</th>\n",
       "    </tr>\n",
       "  </thead>\n",
       "  <tbody>\n",
       "    <tr>\n",
       "      <th>19452</th>\n",
       "      <td>3980300371</td>\n",
       "      <td>20140926T000000</td>\n",
       "      <td>142000.0</td>\n",
       "      <td>0.0</td>\n",
       "      <td>0.00</td>\n",
       "      <td>290.0</td>\n",
       "      <td>20875</td>\n",
       "      <td>1</td>\n",
       "      <td>0</td>\n",
       "      <td>0</td>\n",
       "      <td>...</td>\n",
       "      <td>1</td>\n",
       "      <td>290</td>\n",
       "      <td>0</td>\n",
       "      <td>1963</td>\n",
       "      <td>0</td>\n",
       "      <td>98024</td>\n",
       "      <td>47.5308</td>\n",
       "      <td>-121.888</td>\n",
       "      <td>1620.0</td>\n",
       "      <td>22850.0</td>\n",
       "    </tr>\n",
       "    <tr>\n",
       "      <th>15381</th>\n",
       "      <td>2856101479</td>\n",
       "      <td>20140701T000000</td>\n",
       "      <td>276000.0</td>\n",
       "      <td>1.0</td>\n",
       "      <td>0.75</td>\n",
       "      <td>370.0</td>\n",
       "      <td>1801</td>\n",
       "      <td>1</td>\n",
       "      <td>0</td>\n",
       "      <td>0</td>\n",
       "      <td>...</td>\n",
       "      <td>5</td>\n",
       "      <td>370</td>\n",
       "      <td>0</td>\n",
       "      <td>1923</td>\n",
       "      <td>0</td>\n",
       "      <td>98117</td>\n",
       "      <td>47.6778</td>\n",
       "      <td>-122.389</td>\n",
       "      <td>1340.0</td>\n",
       "      <td>5000.0</td>\n",
       "    </tr>\n",
       "    <tr>\n",
       "      <th>860</th>\n",
       "      <td>1723049033</td>\n",
       "      <td>20140620T000000</td>\n",
       "      <td>245000.0</td>\n",
       "      <td>1.0</td>\n",
       "      <td>0.75</td>\n",
       "      <td>380.0</td>\n",
       "      <td>15000</td>\n",
       "      <td>1</td>\n",
       "      <td>0</td>\n",
       "      <td>0</td>\n",
       "      <td>...</td>\n",
       "      <td>5</td>\n",
       "      <td>380</td>\n",
       "      <td>0</td>\n",
       "      <td>1963</td>\n",
       "      <td>0</td>\n",
       "      <td>98168</td>\n",
       "      <td>47.4810</td>\n",
       "      <td>-122.323</td>\n",
       "      <td>1170.0</td>\n",
       "      <td>15000.0</td>\n",
       "    </tr>\n",
       "    <tr>\n",
       "      <th>18379</th>\n",
       "      <td>1222029077</td>\n",
       "      <td>20141029T000000</td>\n",
       "      <td>265000.0</td>\n",
       "      <td>0.0</td>\n",
       "      <td>0.75</td>\n",
       "      <td>384.0</td>\n",
       "      <td>213444</td>\n",
       "      <td>1</td>\n",
       "      <td>0</td>\n",
       "      <td>0</td>\n",
       "      <td>...</td>\n",
       "      <td>4</td>\n",
       "      <td>384</td>\n",
       "      <td>0</td>\n",
       "      <td>2003</td>\n",
       "      <td>0</td>\n",
       "      <td>98070</td>\n",
       "      <td>47.4177</td>\n",
       "      <td>-122.491</td>\n",
       "      <td>1920.0</td>\n",
       "      <td>224341.0</td>\n",
       "    </tr>\n",
       "    <tr>\n",
       "      <th>4868</th>\n",
       "      <td>6896300380</td>\n",
       "      <td>20141002T000000</td>\n",
       "      <td>228000.0</td>\n",
       "      <td>0.0</td>\n",
       "      <td>1.00</td>\n",
       "      <td>390.0</td>\n",
       "      <td>5900</td>\n",
       "      <td>1</td>\n",
       "      <td>0</td>\n",
       "      <td>0</td>\n",
       "      <td>...</td>\n",
       "      <td>4</td>\n",
       "      <td>390</td>\n",
       "      <td>0</td>\n",
       "      <td>1953</td>\n",
       "      <td>0</td>\n",
       "      <td>98118</td>\n",
       "      <td>47.5260</td>\n",
       "      <td>-122.261</td>\n",
       "      <td>2170.0</td>\n",
       "      <td>6000.0</td>\n",
       "    </tr>\n",
       "  </tbody>\n",
       "</table>\n",
       "<p>5 rows × 21 columns</p>\n",
       "</div>"
      ],
      "text/plain": [
       "               id             date     price  bedrooms  bathrooms  \\\n",
       "19452  3980300371  20140926T000000  142000.0       0.0       0.00   \n",
       "15381  2856101479  20140701T000000  276000.0       1.0       0.75   \n",
       "860    1723049033  20140620T000000  245000.0       1.0       0.75   \n",
       "18379  1222029077  20141029T000000  265000.0       0.0       0.75   \n",
       "4868   6896300380  20141002T000000  228000.0       0.0       1.00   \n",
       "\n",
       "       sqft_living  sqft_lot floors  waterfront  view     ...      grade  \\\n",
       "19452        290.0     20875      1           0     0     ...          1   \n",
       "15381        370.0      1801      1           0     0     ...          5   \n",
       "860          380.0     15000      1           0     0     ...          5   \n",
       "18379        384.0    213444      1           0     0     ...          4   \n",
       "4868         390.0      5900      1           0     0     ...          4   \n",
       "\n",
       "       sqft_above  sqft_basement  yr_built  yr_renovated  zipcode      lat  \\\n",
       "19452         290              0      1963             0    98024  47.5308   \n",
       "15381         370              0      1923             0    98117  47.6778   \n",
       "860           380              0      1963             0    98168  47.4810   \n",
       "18379         384              0      2003             0    98070  47.4177   \n",
       "4868          390              0      1953             0    98118  47.5260   \n",
       "\n",
       "          long  sqft_living15  sqft_lot15  \n",
       "19452 -121.888         1620.0     22850.0  \n",
       "15381 -122.389         1340.0      5000.0  \n",
       "860   -122.323         1170.0     15000.0  \n",
       "18379 -122.491         1920.0    224341.0  \n",
       "4868  -122.261         2170.0      6000.0  \n",
       "\n",
       "[5 rows x 21 columns]"
      ]
     },
     "execution_count": 199,
     "metadata": {},
     "output_type": "execute_result"
    }
   ],
   "source": [
    "sales.head()"
   ]
  },
  {
   "cell_type": "code",
   "execution_count": 205,
   "metadata": {
    "collapsed": false
   },
   "outputs": [
    {
     "name": "stdout",
     "output_type": "stream",
     "text": [
      "Intercept:  -43580.7430945\n",
      "Coefficients:  [ 280.6235679]\n"
     ]
    },
    {
     "data": {
      "image/png": "[encoded data removed]",
      "text/plain": [
       "<matplotlib.figure.Figure at 0x11b2a3f90>"
      ]
     },
     "metadata": {},
     "output_type": "display_data"
    }
   ],
   "source": [
    "fit_plot(sales['sqft_living'], 1, sales['price'])"
   ]
  },
  {
   "cell_type": "code",
   "execution_count": 224,
   "metadata": {
    "collapsed": false
   },
   "outputs": [
    {
     "name": "stdout",
     "output_type": "stream",
     "text": [
      "Intercept:  199222.279305\n",
      "Coefficients:  [  6.79940947e+01   3.85812609e-02]\n"
     ]
    },
    {
     "data": {
      "image/png": "[encoded data removed]",
      "text/plain": [
       "<matplotlib.figure.Figure at 0x122160750>"
      ]
     },
     "metadata": {},
     "output_type": "display_data"
    }
   ],
   "source": [
    "fit_plot(sales['sqft_living'], 2, sales['price'])"
   ]
  },
  {
   "cell_type": "code",
   "execution_count": 225,
   "metadata": {
    "collapsed": false
   },
   "outputs": [
    {
     "name": "stdout",
     "output_type": "stream",
     "text": [
      "Intercept:  336819.748221\n",
      "Coefficients:  [ -9.01819864e+01   8.70465089e-02  -3.84055260e-06]\n"
     ]
    },
    {
     "data": {
      "image/png": "[encoded data removed]",
      "text/plain": [
       "<matplotlib.figure.Figure at 0x11db4a190>"
      ]
     },
     "metadata": {},
     "output_type": "display_data"
    }
   ],
   "source": [
    "fit_plot(sales['sqft_living'], 3, sales['price'])"
   ]
  },
  {
   "cell_type": "code",
   "execution_count": 223,
   "metadata": {
    "collapsed": false
   },
   "outputs": [
    {
     "name": "stdout",
     "output_type": "stream",
     "text": [
      "Intercept:  292893.004943\n",
      "Coefficients:  [  7.87223777e-12   4.72647590e-09   4.06060003e-05  -1.10234944e-08\n",
      "   1.19366591e-12  -4.40294935e-17]\n"
     ]
    },
    {
     "data": {
      "image/png": "[encoded data removed]",
      "text/plain": [
       "<matplotlib.figure.Figure at 0x11d65b210>"
      ]
     },
     "metadata": {},
     "output_type": "display_data"
    }
   ],
   "source": [
    "fit_plot(sales['sqft_living'], 6, sales['price'])"
   ]
  },
  {
   "cell_type": "code",
   "execution_count": 207,
   "metadata": {
    "collapsed": false
   },
   "outputs": [
    {
     "name": "stdout",
     "output_type": "stream",
     "text": [
      "Intercept:  537116.329638\n",
      "Coefficients:  [  4.56404164e-91   6.91713454e-51   2.57712972e-56   2.78197887e-88\n",
      "   1.19863929e-74   2.68575522e-71   2.26147568e-67   1.85900299e-63\n",
      "   1.47144116e-59   1.09771012e-55   7.43509038e-52   4.23015578e-48\n",
      "   1.61618577e-44  -2.49283826e-48   9.59718336e-53]\n"
     ]
    },
    {
     "data": {
      "image/png": "[encoded data removed]",
      "text/plain": [
       "<matplotlib.figure.Figure at 0x11cff9c50>"
      ]
     },
     "metadata": {},
     "output_type": "display_data"
    }
   ],
   "source": [
    "fit_plot(sales['sqft_living'], 15, sales['price'])"
   ]
  },
  {
   "cell_type": "markdown",
   "metadata": {},
   "source": [
    "## 15th degree polynomial for 4 sets:"
   ]
  },
  {
   "cell_type": "code",
   "execution_count": 229,
   "metadata": {
    "collapsed": false
   },
   "outputs": [
    {
     "name": "stdout",
     "output_type": "stream",
     "text": [
      "Intercept:  539058.818668\n",
      "Coefficients:  [  3.05794168e-90  -1.69394946e-49   2.35916782e-55   1.21888065e-88\n",
      "   3.23082736e-74   1.10358333e-70   8.37724029e-67   6.23411957e-63\n",
      "   4.49156442e-59   3.06938763e-55   1.91749300e-51   1.01335180e-47\n",
      "   3.62176959e-44  -5.63501661e-48   2.18641116e-52]\n",
      "Intercept:  506868.378501\n",
      "Coefficients:  [  2.71335949e-77   7.33541093e-39  -1.85014904e-44   8.43131532e-50\n",
      "  -2.08809743e-53   1.51934987e-58   3.64549616e-55   1.50416258e-51\n",
      "   5.76015665e-48   1.95770497e-44   5.39396539e-41   9.40376360e-38\n",
      "  -3.63529141e-41   4.65476524e-45  -1.97199308e-49]\n",
      "Intercept:  530874.316653\n",
      "Coefficients:  [  2.83751934e-88  -7.80224129e-49   2.90781153e-55  -7.96545956e-59\n",
      "   1.57170169e-72   4.27894908e-69   2.68009626e-65   1.63911362e-61\n",
      "   9.66435015e-58   5.38044653e-54   2.72563636e-50   1.16253248e-46\n",
      "   3.33756141e-43  -6.76238818e-47   3.43132932e-51]\n",
      "Intercept:  494818.885502\n",
      "Coefficients:  [  1.37116050e-76   2.79675964e-40  -4.25058440e-44   6.70485026e-50\n",
      "  -4.17619486e-53   5.29002498e-58   1.27070045e-54   4.87868972e-51\n",
      "   1.73549021e-47   5.47058320e-44   1.39587599e-40   2.25041871e-37\n",
      "  -9.43954118e-41   1.31573060e-44  -6.09163408e-49]\n"
     ]
    },
    {
     "data": {
      "image/png": "[encoded data removed]",
      "text/plain": [
       "<matplotlib.figure.Figure at 0x11bb1bd90>"
      ]
     },
     "metadata": {},
     "output_type": "display_data"
    }
   ],
   "source": [
    "set_1 = pd.read_csv('wk3_kc_house_set_1_data.csv', dtype=dtype_dict)\n",
    "set_2 = pd.read_csv('wk3_kc_house_set_2_data.csv', dtype=dtype_dict)\n",
    "set_3 = pd.read_csv('wk3_kc_house_set_3_data.csv', dtype=dtype_dict)\n",
    "set_4 = pd.read_csv('wk3_kc_house_set_4_data.csv', dtype=dtype_dict)\n",
    "\n",
    "fit_plot(set_1['sqft_living'], 15, set_1['price'])\n",
    "fit_plot(set_2['sqft_living'], 15, set_2['price'])\n",
    "fit_plot(set_3['sqft_living'], 15, set_3['price'])\n",
    "fit_plot(set_4['sqft_living'], 15, set_4['price'])"
   ]
  },
  {
   "cell_type": "markdown",
   "metadata": {},
   "source": [
    "## Cross validation\n",
    "Perform cross validation from 1 to 15 degrees (15 polynomial powers) and pick the model with the lowest validation RSS."
   ]
  },
  {
   "cell_type": "code",
   "execution_count": 208,
   "metadata": {
    "collapsed": true
   },
   "outputs": [],
   "source": [
    "training_data = pd.read_csv('wk3_kc_house_train_data.csv', dtype=dtype_dict)\n",
    "test_data = pd.read_csv('wk3_kc_house_test_data.csv', dtype=dtype_dict)\n",
    "validation_data = pd.read_csv('wk3_kc_house_valid_data.csv', dtype=dtype_dict)"
   ]
  },
  {
   "cell_type": "code",
   "execution_count": 231,
   "metadata": {
    "collapsed": false
   },
   "outputs": [
    {
     "name": "stdout",
     "output_type": "stream",
     "text": [
      "Degree:  1\n",
      "Intercept:  -59493.3171652\n",
      "Coefficients:  [ 288.59846375]\n",
      "RSS:  6.290978863e+14\n",
      "--------\n",
      "Degree:  2\n",
      "Intercept:  267506.280132\n",
      "Coefficients:  [ 1.22673842  0.0522949 ]\n",
      "RSS:  6.23955062707e+14\n",
      "--------\n",
      "Degree:  3\n",
      "Intercept:  262170.64834\n",
      "Coefficients:  [  7.50292074e+00   5.03063603e-02   1.67090667e-07]\n",
      "RSS:  6.25820280252e+14\n",
      "--------\n",
      "Degree:  4\n",
      "Intercept:  277368.461722\n",
      "Coefficients:  [ -1.53852721e+01   6.08970906e-02  -1.61496571e-06   9.11725302e-11]\n",
      "RSS:  6.29987341468e+14\n",
      "--------\n",
      "Degree:  5\n",
      "Intercept:  266178.100527\n",
      "Coefficients:  [  3.19604020e-05   5.44376194e-02  -6.35220172e-07   4.74146648e-11\n",
      "  -2.00714209e-16]\n",
      "RSS:  6.28240679314e+14\n",
      "--------\n",
      "Degree:  6\n",
      "Intercept:  297506.756636\n",
      "Coefficients:  [  8.50063329e-12   1.43264309e-08   3.79412711e-05  -9.89794250e-09\n",
      "   1.06074707e-12  -3.90874342e-17]\n",
      "RSS:  5.66268593826e+14\n",
      "--------\n",
      "Degree:  7\n",
      "Intercept:  344491.52334\n",
      "Coefficients:  [  8.80209599e-19   1.06735181e-12   8.65239821e-12   1.40282516e-08\n",
      "  -4.30479933e-12   4.64796174e-16  -1.67447771e-20]\n",
      "RSS:  1.07384557733e+15\n",
      "--------\n",
      "Degree:  8\n",
      "Intercept:  391486.473622\n",
      "Coefficients:  [  5.37676814e-26  -5.00854868e-15   7.20257268e-19   2.17475857e-15\n",
      "   3.74718437e-12  -1.17819508e-15   1.24986835e-19  -4.38361066e-24]\n",
      "RSS:  7.08774322442e+15\n",
      "--------\n",
      "Degree:  9\n",
      "Intercept:  431228.286463\n",
      "Coefficients:  [  2.35440809e-33   5.55324968e-18  -4.85127468e-23   1.61349626e-22\n",
      "   4.53006377e-19   8.23523085e-16  -2.58575972e-19   2.69914449e-23\n",
      "  -9.28485616e-28]\n",
      "RSS:  4.5303627731e+16\n",
      "--------\n",
      "Degree:  10\n",
      "Intercept:  461936.507174\n",
      "Coefficients:  [  8.10194270e-41   1.71840703e-21   7.50382675e-27   8.37650713e-30\n",
      "   2.82989842e-26   8.32511110e-23   1.58082448e-19  -4.93871231e-23\n",
      "   5.10007290e-27  -1.73354150e-31]\n",
      "RSS:  2.47568313325e+17\n",
      "--------\n",
      "Degree:  11\n",
      "Intercept:  484256.276544\n",
      "Coefficients:  [  2.32014886e-48  -1.70902142e-25  -6.34138080e-32  -2.04872393e-35\n",
      "   1.22796376e-33   4.56386975e-30   1.39623892e-26   2.74398727e-23\n",
      "  -8.53422753e-27   8.75293930e-31  -2.95373026e-35]\n",
      "RSS:  1.19375559503e+18\n",
      "--------\n",
      "Degree:  12\n",
      "Intercept:  500275.070561\n",
      "Coefficients:  [  5.72477700e-56  -5.43112089e-28  -1.36906870e-34   1.35762807e-39\n",
      "   4.20354136e-41   1.78635513e-37   6.87060807e-34   2.16675289e-30\n",
      "   4.37085447e-27  -1.35480625e-30   1.38346810e-34  -4.64789954e-39]\n",
      "RSS:  5.09253615212e+18\n",
      "--------\n",
      "Degree:  13\n",
      "Intercept:  531845.574929\n",
      "Coefficients:  [  1.51503805e-73  -5.39749802e-42   2.74027675e-47   1.33638236e-51\n",
      "   8.66478085e-58   2.61981981e-54   1.65074167e-50   9.86650488e-47\n",
      "   5.38893090e-43   2.48790292e-39   7.75959524e-36  -1.39618816e-39\n",
      "   6.24901286e-44]\n",
      "RSS:  7.61623002129e+17\n",
      "--------\n",
      "Degree:  14\n",
      "Intercept:  533699.974705\n",
      "Coefficients:  [  2.35065885e-81  -3.31020255e-45  -6.97062511e-52   1.09302900e-78\n",
      "   1.65004191e-65   4.76035720e-62   3.14955042e-58   2.01353491e-54\n",
      "   1.21821264e-50   6.72101619e-47   3.12875226e-43   9.82528405e-40\n",
      "  -1.77391184e-43   7.95992831e-48]\n",
      "RSS:  2.29756092501e+18\n",
      "--------\n",
      "Degree:  15\n",
      "Intercept:  534979.812425\n",
      "Coefficients:  [  3.65649652e-89  -3.49017041e-49  -1.70721452e-55  -1.99136489e-59\n",
      "   3.04293598e-73   8.36182560e-70   5.73133489e-66   3.83786524e-62\n",
      "   2.47884969e-58   1.51269750e-54   8.40594099e-51   3.93663091e-47\n",
      "   1.24240972e-43  -2.25041880e-47   1.01236550e-51]\n",
      "RSS:  6.95503809725e+18\n",
      "--------\n"
     ]
    }
   ],
   "source": [
    "MAX_DEGREE = 15\n",
    "for degree in range(1, MAX_DEGREE+1):\n",
    "    print \"Degree: \", degree\n",
    "    poly_data_train = polynomial_dataframe(training_data['sqft_living'], degree)\n",
    "    intercept, coefficients, model = fit(poly_data_train, training_data['price'])\n",
    "    poly_data_validation = polynomial_dataframe(validation_data['sqft_living'], degree)\n",
    "    print \"RSS: \", np.sum((validation_data['price'] - model.predict(poly_data_validation))**2)\n",
    "    print \"--------\""
   ]
  },
  {
   "cell_type": "markdown",
   "metadata": {},
   "source": [
    "### Best power/degree = 6"
   ]
  },
  {
   "cell_type": "code",
   "execution_count": 239,
   "metadata": {
    "collapsed": false
   },
   "outputs": [
    {
     "name": "stdout",
     "output_type": "stream",
     "text": [
      "Intercept:  297506.756636\n",
      "Coefficients:  [  8.50063329e-12   1.43264309e-08   3.79412711e-05  -9.89794250e-09\n",
      "   1.06074707e-12  -3.90874342e-17]\n",
      "RSS:  1.35225114644e+14\n"
     ]
    }
   ],
   "source": [
    "degree = 6\n",
    "poly_data_train = polynomial_dataframe(training_data['sqft_living'], degree)\n",
    "intercept, coefficients, model = fit(poly_data_train, training_data['price'])\n",
    "poly_data_test = polynomial_dataframe(test_data['sqft_living'], degree)\n",
    "print \"RSS: \", np.sum((test_data['price'] - model.predict(poly_data_test))**2)"
   ]
  },
  {
   "cell_type": "code",
   "execution_count": null,
   "metadata": {
    "collapsed": true
   },
   "outputs": [],
   "source": []
  }
 ],
 "metadata": {
  "kernelspec": {
   "display_name": "Python 2",
   "language": "python",
   "name": "python2"
  },
  "language_info": {
   "codemirror_mode": {
    "name": "ipython",
    "version": 2
   },
   "file_extension": ".py",
   "mimetype": "text/x-python",
   "name": "python",
   "nbconvert_exporter": "python",
   "pygments_lexer": "ipython2",
   "version": "2.7.11"
  }
 },
 "nbformat": 4,
 "nbformat_minor": 0
}
