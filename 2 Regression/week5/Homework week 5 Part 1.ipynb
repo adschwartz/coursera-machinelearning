{
 "cells": [
  {
   "cell_type": "markdown",
   "metadata": {},
   "source": [
    "# Machine Learning: Regression (Module 2, week 5) - LASSO Regression\n",
    "Keywords: LASSO regression, L1 Penalty, Coordinate Descent"
   ]
  },
  {
   "cell_type": "code",
   "execution_count": 1,
   "metadata": {
    "collapsed": false
   },
   "outputs": [],
   "source": [
    "import pandas as pd\n",
    "import numpy as np\n",
    "import math\n",
    "import matplotlib.pyplot as plt\n",
    "%matplotlib inline\n",
    "from sklearn import linear_model"
   ]
  },
  {
   "cell_type": "code",
   "execution_count": 8,
   "metadata": {
    "collapsed": true
   },
   "outputs": [],
   "source": [
    "dtype_dict = {'bathrooms':float, 'waterfront':int, 'sqft_above':int, 'sqft_living15':float, 'grade':int, 'yr_renovated':int, 'price':float, 'bedrooms':float, 'zipcode':str, 'long':float, 'sqft_lot15':float, 'sqft_living':float, 'floors':float, 'condition':int, 'lat':float, 'date':str, 'sqft_basement':int, 'yr_built':int, 'id':str, 'sqft_lot':int, 'view':int}"
   ]
  },
  {
   "cell_type": "code",
   "execution_count": 9,
   "metadata": {
    "collapsed": false
   },
   "outputs": [],
   "source": [
    "sales = pd.read_csv('kc_house_data.csv', dtype=dtype_dict)"
   ]
  },
  {
   "cell_type": "code",
   "execution_count": 10,
   "metadata": {
    "collapsed": false
   },
   "outputs": [],
   "source": [
    "from math import log, sqrt\n",
    "sales['sqft_living_sqrt'] = sales['sqft_living'].apply(sqrt)\n",
    "sales['sqft_lot_sqrt'] = sales['sqft_lot'].apply(sqrt)\n",
    "sales['bedrooms_square'] = sales['bedrooms']*sales['bedrooms']\n",
    "sales['floors_square'] = sales['floors']*sales['floors']"
   ]
  },
  {
   "cell_type": "code",
   "execution_count": 11,
   "metadata": {
    "collapsed": false
   },
   "outputs": [
    {
     "data": {
      "text/plain": [
       "Lasso(alpha=500.0, copy_X=True, fit_intercept=True, max_iter=1000,\n",
       "   normalize=True, positive=False, precompute=False, random_state=None,\n",
       "   selection='cyclic', tol=0.0001, warm_start=False)"
      ]
     },
     "execution_count": 11,
     "metadata": {},
     "output_type": "execute_result"
    }
   ],
   "source": [
    "from sklearn import linear_model  # using scikit-learn\n",
    "\n",
    "all_features = ['bedrooms', 'bedrooms_square',\n",
    "            'bathrooms',\n",
    "            'sqft_living', 'sqft_living_sqrt',\n",
    "            'sqft_lot', 'sqft_lot_sqrt',\n",
    "            'floors', 'floors_square',\n",
    "            'waterfront', 'view', 'condition', 'grade',\n",
    "            'sqft_above',\n",
    "            'sqft_basement',\n",
    "            'yr_built', 'yr_renovated']\n",
    "\n",
    "model_all = linear_model.Lasso(alpha=5e2, normalize=True) # set parameters\n",
    "model_all.fit(sales[all_features], sales['price']) # learn weights"
   ]
  },
  {
   "cell_type": "code",
   "execution_count": 13,
   "metadata": {
    "collapsed": false
   },
   "outputs": [
    {
     "data": {
      "text/plain": [
       "array([     0.        ,      0.        ,      0.        ,    134.43931396,\n",
       "            0.        ,      0.        ,      0.        ,      0.        ,\n",
       "            0.        ,      0.        ,  24750.00458561,      0.        ,\n",
       "        61749.10309071,      0.        ,      0.        ,     -0.        ,\n",
       "            0.        ])"
      ]
     },
     "execution_count": 13,
     "metadata": {},
     "output_type": "execute_result"
    }
   ],
   "source": [
    "model_all.coef_"
   ]
  },
  {
   "cell_type": "markdown",
   "metadata": {},
   "source": [
    "### Features from LASSO:"
   ]
  },
  {
   "cell_type": "code",
   "execution_count": 33,
   "metadata": {
    "collapsed": false
   },
   "outputs": [
    {
     "data": {
      "text/plain": [
       "array(['sqft_living', 'view', 'grade'], \n",
       "      dtype='|S11')"
      ]
     },
     "execution_count": 33,
     "metadata": {},
     "output_type": "execute_result"
    }
   ],
   "source": [
    "f = lambda x: all_features[x]\n",
    "features = np.nonzero(model_all.coef_)[0]\n",
    "np.array([f(xi) for xi in features])"
   ]
  },
  {
   "cell_type": "code",
   "execution_count": 34,
   "metadata": {
    "collapsed": true
   },
   "outputs": [],
   "source": [
    "testing = pd.read_csv('wk3_kc_house_test_data.csv', dtype=dtype_dict)\n",
    "training = pd.read_csv('wk3_kc_house_train_data.csv', dtype=dtype_dict)\n",
    "validation = pd.read_csv('wk3_kc_house_valid_data.csv', dtype=dtype_dict)"
   ]
  },
  {
   "cell_type": "code",
   "execution_count": 35,
   "metadata": {
    "collapsed": true
   },
   "outputs": [],
   "source": [
    "testing['sqft_living_sqrt'] = testing['sqft_living'].apply(sqrt)\n",
    "testing['sqft_lot_sqrt'] = testing['sqft_lot'].apply(sqrt)\n",
    "testing['bedrooms_square'] = testing['bedrooms']*testing['bedrooms']\n",
    "testing['floors_square'] = testing['floors']*testing['floors']\n",
    "\n",
    "training['sqft_living_sqrt'] = training['sqft_living'].apply(sqrt)\n",
    "training['sqft_lot_sqrt'] = training['sqft_lot'].apply(sqrt)\n",
    "training['bedrooms_square'] = training['bedrooms']*training['bedrooms']\n",
    "training['floors_square'] = training['floors']*training['floors']\n",
    "\n",
    "validation['sqft_living_sqrt'] = validation['sqft_living'].apply(sqrt)\n",
    "validation['sqft_lot_sqrt'] = validation['sqft_lot'].apply(sqrt)\n",
    "validation['bedrooms_square'] = validation['bedrooms']*validation['bedrooms']\n",
    "validation['floors_square'] = validation['floors']*validation['floors']"
   ]
  },
  {
   "cell_type": "code",
   "execution_count": 40,
   "metadata": {
    "collapsed": false
   },
   "outputs": [],
   "source": [
    "penalties = np.logspace(1, 7, num=13)"
   ]
  },
  {
   "cell_type": "code",
   "execution_count": 65,
   "metadata": {
    "collapsed": false
   },
   "outputs": [
    {
     "name": "stdout",
     "output_type": "stream",
     "text": [
      "RSS for validation set with l1=10.0: 3.982133273e+14\n",
      "RSS for validation set with l1=31.6227766017: 3.99041900253e+14\n",
      "RSS for validation set with l1=100.0: 4.29791604073e+14\n",
      "RSS for validation set with l1=316.227766017: 4.63739831045e+14\n",
      "RSS for validation set with l1=1000.0: 6.45898733634e+14\n",
      "RSS for validation set with l1=3162.27766017: 1.22250685943e+15\n",
      "RSS for validation set with l1=10000.0: 1.22250685943e+15\n",
      "RSS for validation set with l1=31622.7766017: 1.22250685943e+15\n",
      "RSS for validation set with l1=100000.0: 1.22250685943e+15\n",
      "RSS for validation set with l1=316227.766017: 1.22250685943e+15\n",
      "RSS for validation set with l1=1000000.0: 1.22250685943e+15\n",
      "RSS for validation set with l1=3162277.66017: 1.22250685943e+15\n",
      "RSS for validation set with l1=10000000.0: 1.22250685943e+15\n"
     ]
    }
   ],
   "source": [
    "for l1_penalty in penalties:\n",
    "    model = linear_model.Lasso(alpha=l1_penalty, normalize=True)\n",
    "    model.fit(training[all_features], training['price']) # learn weights\n",
    "    print \"RSS for validation set with l1=%s: %s\" %(l1_penalty, np.sum((validation['price'] - model.predict(validation[all_features]))**2))"
   ]
  },
  {
   "cell_type": "markdown",
   "metadata": {},
   "source": [
    "The l1=10.0 penalty has the lowest RSS"
   ]
  },
  {
   "cell_type": "code",
   "execution_count": 46,
   "metadata": {
    "collapsed": false
   },
   "outputs": [
    {
     "name": "stdout",
     "output_type": "stream",
     "text": [
      "RSS for test set with l1=10.0: 9.84674025527e+13\n"
     ]
    }
   ],
   "source": [
    "best_penalty = penalties[0]\n",
    "model = linear_model.Lasso(alpha=best_penalty, normalize=True)\n",
    "model.fit(training[all_features], training['price']) # learn weights\n",
    "print \"RSS for test set with l1=%s: %s\" %(best_penalty, np.sum((testing['price'] - model.predict(testing[all_features]))**2))"
   ]
  },
  {
   "cell_type": "code",
   "execution_count": 47,
   "metadata": {
    "collapsed": false
   },
   "outputs": [
    {
     "data": {
      "text/plain": [
       "15"
      ]
     },
     "execution_count": 47,
     "metadata": {},
     "output_type": "execute_result"
    }
   ],
   "source": [
    "np.count_nonzero(model.coef_) + np.count_nonzero(model.intercept_)"
   ]
  },
  {
   "cell_type": "markdown",
   "metadata": {},
   "source": [
    "### Find sparse model with 7 coefficients"
   ]
  },
  {
   "cell_type": "code",
   "execution_count": 56,
   "metadata": {
    "collapsed": false
   },
   "outputs": [
    {
     "name": "stdout",
     "output_type": "stream",
     "text": [
      "non zero for l1_penalty= 10.0 :  15\n",
      "non zero for l1_penalty= 14.3844988829 :  15\n",
      "non zero for l1_penalty= 20.6913808111 :  15\n",
      "non zero for l1_penalty= 29.7635144163 :  15\n",
      "non zero for l1_penalty= 42.8133239872 :  13\n",
      "non zero for l1_penalty= 61.5848211066 :  12\n",
      "non zero for l1_penalty= 88.586679041 :  11\n",
      "non zero for l1_penalty= 127.42749857 :  10\n",
      "non zero for l1_penalty= 183.298071083 :  7\n",
      "non zero for l1_penalty= 263.665089873 :  6\n",
      "non zero for l1_penalty= 379.269019073 :  6\n",
      "non zero for l1_penalty= 545.559478117 :  6\n",
      "non zero for l1_penalty= 784.759970351 :  5\n",
      "non zero for l1_penalty= 1128.83789168 :  3\n",
      "non zero for l1_penalty= 1623.77673919 :  3\n",
      "non zero for l1_penalty= 2335.72146909 :  2\n",
      "non zero for l1_penalty= 3359.81828628 :  1\n",
      "non zero for l1_penalty= 4832.93023857 :  1\n",
      "non zero for l1_penalty= 6951.92796178 :  1\n",
      "non zero for l1_penalty= 10000.0 :  1\n"
     ]
    }
   ],
   "source": [
    "non_zeros = []\n",
    "max_nonzeros = 7\n",
    "for l1_penalty in np.logspace(1, 4, num=20):\n",
    "    model = linear_model.Lasso(alpha=l1_penalty, normalize=True)\n",
    "    model.fit(training[all_features], training['price'])\n",
    "    non_zero = np.count_nonzero(model.coef_) + np.count_nonzero(model.intercept_)\n",
    "    print \"non zero for l1_penalty=\", l1_penalty, \": \", non_zero\n",
    "    non_zeros.append(l1_penalty)"
   ]
  },
  {
   "cell_type": "code",
   "execution_count": 60,
   "metadata": {
    "collapsed": false
   },
   "outputs": [],
   "source": [
    "l1_penalty_min = non_zeros[7] # 127.42749857\n",
    "l1_penalty_max = non_zeros[9] # 263.665089873"
   ]
  },
  {
   "cell_type": "markdown",
   "metadata": {},
   "source": [
    "### 13. Quiz Question: What values did you find for l1_penalty_min and l1_penalty_max?"
   ]
  },
  {
   "cell_type": "code",
   "execution_count": 62,
   "metadata": {
    "collapsed": false
   },
   "outputs": [
    {
     "data": {
      "text/plain": [
       "127.42749857031335"
      ]
     },
     "execution_count": 62,
     "metadata": {},
     "output_type": "execute_result"
    }
   ],
   "source": [
    "l1_penalty_min"
   ]
  },
  {
   "cell_type": "code",
   "execution_count": 63,
   "metadata": {
    "collapsed": false
   },
   "outputs": [
    {
     "data": {
      "text/plain": [
       "263.66508987303581"
      ]
     },
     "execution_count": 63,
     "metadata": {},
     "output_type": "execute_result"
    }
   ],
   "source": [
    "l1_penalty_max"
   ]
  },
  {
   "cell_type": "code",
   "execution_count": 74,
   "metadata": {
    "collapsed": false
   },
   "outputs": [
    {
     "name": "stdout",
     "output_type": "stream",
     "text": [
      "l1=127.42749857 RSS = 4.35374677103e+14, non zero=10, features= ['bedrooms' 'bathrooms' 'sqft_living' 'sqft_lot_sqrt' 'floors_square'\n",
      " 'waterfront' 'view' 'grade' 'yr_built']\n",
      "l1=134.597898113 RSS = 4.37009229124e+14, non zero=10, features= ['bedrooms' 'bathrooms' 'sqft_living' 'sqft_lot_sqrt' 'floors_square'\n",
      " 'waterfront' 'view' 'grade' 'yr_built']\n",
      "l1=141.768297655 RSS = 4.38236128387e+14, non zero=8, features= ['bathrooms' 'sqft_living' 'sqft_lot_sqrt' 'waterfront' 'view' 'grade'\n",
      " 'yr_built']\n",
      "l1=148.938697197 RSS = 4.391589378e+14, non zero=8, features= ['bathrooms' 'sqft_living' 'sqft_lot_sqrt' 'waterfront' 'view' 'grade'\n",
      " 'yr_built']\n",
      "l1=156.109096739 RSS = 4.40037365263e+14, non zero=7, features= ['bathrooms' 'sqft_living' 'waterfront' 'view' 'grade' 'yr_built']\n",
      "l1=163.279496282 RSS = 4.40777489642e+14, non zero=7, features= ['bathrooms' 'sqft_living' 'waterfront' 'view' 'grade' 'yr_built']\n",
      "l1=170.449895824 RSS = 4.4156669809e+14, non zero=7, features= ['bathrooms' 'sqft_living' 'waterfront' 'view' 'grade' 'yr_built']\n",
      "l1=177.620295366 RSS = 4.42406413189e+14, non zero=7, features= ['bathrooms' 'sqft_living' 'waterfront' 'view' 'grade' 'yr_built']\n",
      "l1=184.790694908 RSS = 4.43296716874e+14, non zero=7, features= ['bathrooms' 'sqft_living' 'waterfront' 'view' 'grade' 'yr_built']\n",
      "l1=191.961094451 RSS = 4.44239780526e+14, non zero=7, features= ['bathrooms' 'sqft_living' 'waterfront' 'view' 'grade' 'yr_built']\n",
      "l1=199.131493993 RSS = 4.45230739843e+14, non zero=7, features= ['bathrooms' 'sqft_living' 'waterfront' 'view' 'grade' 'yr_built']\n",
      "l1=206.301893535 RSS = 4.46268896865e+14, non zero=6, features= ['sqft_living' 'waterfront' 'view' 'grade' 'yr_built']\n",
      "l1=213.472293077 RSS = 4.47112919435e+14, non zero=6, features= ['sqft_living' 'waterfront' 'view' 'grade' 'yr_built']\n",
      "l1=220.64269262 RSS = 4.47998187852e+14, non zero=6, features= ['sqft_living' 'waterfront' 'view' 'grade' 'yr_built']\n",
      "l1=227.813092162 RSS = 4.48924706673e+14, non zero=6, features= ['sqft_living' 'waterfront' 'view' 'grade' 'yr_built']\n",
      "l1=234.983491704 RSS = 4.498924759e+14, non zero=6, features= ['sqft_living' 'waterfront' 'view' 'grade' 'yr_built']\n",
      "l1=242.153891246 RSS = 4.50901498778e+14, non zero=6, features= ['sqft_living' 'waterfront' 'view' 'grade' 'yr_built']\n",
      "l1=249.324290789 RSS = 4.51952426655e+14, non zero=6, features= ['sqft_living' 'waterfront' 'view' 'grade' 'yr_built']\n",
      "l1=256.494690331 RSS = 4.53043924368e+14, non zero=6, features= ['sqft_living' 'waterfront' 'view' 'grade' 'yr_built']\n",
      "l1=263.665089873 RSS = 4.54176669663e+14, non zero=6, features= ['sqft_living' 'waterfront' 'view' 'grade' 'yr_built']\n"
     ]
    }
   ],
   "source": [
    "rsss = []\n",
    "for l1_penalty in np.linspace(l1_penalty_min,l1_penalty_max,20):\n",
    "    model = linear_model.Lasso(alpha=l1_penalty, normalize=True)\n",
    "    model.fit(training[all_features], training['price'])\n",
    "    non_zero = np.count_nonzero(model.coef_) + np.count_nonzero(model.intercept_)\n",
    "    rss = np.sum((validation['price'] - model.predict(validation[all_features]))**2)\n",
    "    rsss.append(rss)\n",
    "    features = np.nonzero(model.coef_)[0]\n",
    "    features_as_strings = np.array([f(xi) for xi in features])    \n",
    "    print \"l1=%s RSS = %s, non zero=%s, features= %s\" %(l1_penalty, rss, non_zero, features_as_strings)"
   ]
  },
  {
   "cell_type": "code",
   "execution_count": 70,
   "metadata": {
    "collapsed": false
   },
   "outputs": [
    {
     "data": {
      "text/plain": [
       "440037365263316.8"
      ]
     },
     "execution_count": 70,
     "metadata": {},
     "output_type": "execute_result"
    }
   ],
   "source": [
    "rsss[4]"
   ]
  }
 ],
 "metadata": {
  "kernelspec": {
   "display_name": "Python 2",
   "language": "python",
   "name": "python2"
  },
  "language_info": {
   "codemirror_mode": {
    "name": "ipython",
    "version": 2
   },
   "file_extension": ".py",
   "mimetype": "text/x-python",
   "name": "python",
   "nbconvert_exporter": "python",
   "pygments_lexer": "ipython2",
   "version": "2.7.11"
  }
 },
 "nbformat": 4,
 "nbformat_minor": 0
}
