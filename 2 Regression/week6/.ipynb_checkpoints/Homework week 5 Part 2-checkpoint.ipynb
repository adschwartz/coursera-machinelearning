{
 "cells": [
  {
   "cell_type": "markdown",
   "metadata": {},
   "source": [
    "# Machine Learning: Regression (Module 2, week 5) - LASSO Regression\n",
    "Keywords: LASSO regression, L1 Penalty, Coordinate Descent"
   ]
  },
  {
   "cell_type": "code",
   "execution_count": 1,
   "metadata": {
    "collapsed": true
   },
   "outputs": [],
   "source": [
    "import pandas as pd\n",
    "import numpy as np\n",
    "import math\n",
    "import matplotlib.pyplot as plt\n",
    "%matplotlib inline\n",
    "from sklearn import linear_model"
   ]
  },
  {
   "cell_type": "code",
   "execution_count": 2,
   "metadata": {
    "collapsed": false
   },
   "outputs": [],
   "source": [
    "dtype_dict = {'bathrooms':float, 'waterfront':int, 'sqft_above':int, 'sqft_living15':float, 'grade':int, 'yr_renovated':int, 'price':float, 'bedrooms':float, 'zipcode':str, 'long':float, 'sqft_lot15':float, 'sqft_living':float, 'floors':float, 'condition':int, 'lat':float, 'date':str, 'sqft_basement':int, 'yr_built':int, 'id':str, 'sqft_lot':int, 'view':int}\n",
    "sales = pd.read_csv('kc_house_data.csv', dtype=dtype_dict)\n",
    "sales_train = pd.read_csv('kc_house_train_data.csv',dtype=dtype_dict)\n",
    "sales_test = pd.read_csv('kc_house_test_data.csv',dtype=dtype_dict)"
   ]
  },
  {
   "cell_type": "code",
   "execution_count": 3,
   "metadata": {
    "collapsed": true
   },
   "outputs": [],
   "source": [
    "def get_numpy_data(data, features, output):\n",
    "    ones = np.ones(data.shape[0])\n",
    "    data['constant'] = ones\n",
    "    all_features = ['constant']+features\n",
    "    features_matrix = data.as_matrix(all_features)\n",
    "    output_array = data.as_matrix([output])[:,0]\n",
    "    return(features_matrix, output_array)"
   ]
  },
  {
   "cell_type": "code",
   "execution_count": 4,
   "metadata": {
    "collapsed": true
   },
   "outputs": [],
   "source": [
    "def predict_output(feature_matrix, weights):\n",
    "    predictions = np.dot(feature_matrix, weights)\n",
    "    return(predictions)"
   ]
  },
  {
   "cell_type": "markdown",
   "metadata": {},
   "source": [
    "In the house dataset, features vary wildly in their relative magnitude: ‘sqft_living’ is very large overall compared to ‘bedrooms’, for instance. As a result, weight for ‘sqft_living’ would be much smaller than weight for ‘bedrooms’. This is problematic because “small” weights are dropped first as l1_penalty goes up."
   ]
  },
  {
   "cell_type": "code",
   "execution_count": 5,
   "metadata": {
    "collapsed": true
   },
   "outputs": [],
   "source": [
    "def normalize_features(features):\n",
    "    norms = np.linalg.norm(features, axis=0)\n",
    "    normalized_features = features / norms    \n",
    "    return (normalized_features, norms)"
   ]
  },
  {
   "cell_type": "markdown",
   "metadata": {},
   "source": [
    "### Implement cyclical coordinate descent with normalized features\n",
    "\n",
    "```\n",
    "ro[i] = SUM[ [feature_i]*(output - prediction + w[i]*[feature_i]) ]\n",
    "```"
   ]
  },
  {
   "cell_type": "code",
   "execution_count": 6,
   "metadata": {
    "collapsed": false
   },
   "outputs": [],
   "source": [
    "features, output = get_numpy_data(sales, ['sqft_living', 'bedrooms'], 'price')"
   ]
  },
  {
   "cell_type": "code",
   "execution_count": 7,
   "metadata": {
    "collapsed": false
   },
   "outputs": [],
   "source": [
    "normalized_features, norms = normalize_features(features)"
   ]
  },
  {
   "cell_type": "code",
   "execution_count": 8,
   "metadata": {
    "collapsed": true
   },
   "outputs": [],
   "source": [
    "weights = [1,4,1]"
   ]
  },
  {
   "cell_type": "markdown",
   "metadata": {},
   "source": [
    "Calculate ro for each row of the normalized feature matrix:"
   ]
  },
  {
   "cell_type": "code",
   "execution_count": 9,
   "metadata": {
    "collapsed": false
   },
   "outputs": [],
   "source": [
    "number_of_features = len(normalized_features[0])\n",
    "prediction = predict_output(normalized_features, weights)\n",
    "output = sales['price']\n",
    "\n",
    "ro = []\n",
    "for i in range(number_of_features):\n",
    "    ro.append((normalized_features[:,i] * (output - prediction + weights[i]*normalized_features[:,i])).sum())\n",
    "    "
   ]
  },
  {
   "cell_type": "code",
   "execution_count": 10,
   "metadata": {
    "collapsed": false
   },
   "outputs": [
    {
     "name": "stdout",
     "output_type": "stream",
     "text": [
      "[79400300.01452321, 87939470.82325152, 80966698.66623905]\n"
     ]
    }
   ],
   "source": [
    "print ro"
   ]
  },
  {
   "cell_type": "markdown",
   "metadata": {},
   "source": [
    "Quiz Question: What range of values of l1_penalty would not set w[1] zero, but would set w[2] to zero, if we were to take a step in that coordinate?\n",
    "\n",
    "Generally: w[i] = 0 if lambda >= 2 * abs(ro[i])"
   ]
  },
  {
   "cell_type": "code",
   "execution_count": 58,
   "metadata": {
    "collapsed": false
   },
   "outputs": [
    {
     "name": "stdout",
     "output_type": "stream",
     "text": [
      "ro[1] =  175878941.647\n",
      "ro[2] =  161933397.332\n"
     ]
    }
   ],
   "source": [
    "print \"ro[1] = \", 2 * ro[1]\n",
    "print \"ro[2] = \", 2 * ro[2]"
   ]
  },
  {
   "cell_type": "markdown",
   "metadata": {},
   "source": [
    "Quiz Question: What range of values of l1_penalty would set both w[1] and w[2] to zero, if we were to take a step in that coordinate?"
   ]
  },
  {
   "cell_type": "markdown",
   "metadata": {},
   "source": [
    "Answer: In this case we would need a lambda value that is higher than the both 2 * ro[1] and 2 * ro[2]."
   ]
  },
  {
   "cell_type": "markdown",
   "metadata": {},
   "source": [
    "### Single Coordinate Descent Step"
   ]
  },
  {
   "cell_type": "code",
   "execution_count": 12,
   "metadata": {
    "collapsed": true
   },
   "outputs": [],
   "source": [
    "def lasso_coordinate_descent_step(i, feature_matrix, output, weights, l1_penalty):\n",
    "    # compute prediction\n",
    "    prediction = predict_output(feature_matrix, weights)\n",
    "    # compute ro[i] = SUM[ [feature_i]*(output - prediction + weight[i]*[feature_i]) ]\n",
    "    ro_i = (feature_matrix[:,i] * (output - prediction + weights[i]*feature_matrix[:,i])).sum()\n",
    "    \n",
    "    if i == 0: # intercept -- do not regularize\n",
    "        new_weight_i = ro_i\n",
    "    elif ro_i < -l1_penalty/2.:\n",
    "        new_weight_i = ro_i + l1_penalty/2 \n",
    "    elif ro_i > l1_penalty/2.:\n",
    "        new_weight_i = ro_i - l1_penalty/2 \n",
    "    else:\n",
    "        new_weight_i = 0.\n",
    "    \n",
    "    return new_weight_i"
   ]
  },
  {
   "cell_type": "code",
   "execution_count": 13,
   "metadata": {
    "collapsed": false
   },
   "outputs": [
    {
     "name": "stdout",
     "output_type": "stream",
     "text": [
      "0.425558846691\n"
     ]
    }
   ],
   "source": [
    "# should print 0.425558846691\n",
    "import math\n",
    "print lasso_coordinate_descent_step(1, np.array([[3./math.sqrt(13),1./math.sqrt(10)],\n",
    "                   [2./math.sqrt(13),3./math.sqrt(10)]]), np.array([1., 1.]), np.array([1., 4.]), 0.1)"
   ]
  },
  {
   "cell_type": "markdown",
   "metadata": {},
   "source": [
    "### Cyclical Coordinate Descent"
   ]
  },
  {
   "cell_type": "code",
   "execution_count": 14,
   "metadata": {
    "collapsed": false
   },
   "outputs": [],
   "source": [
    "def lasso_cyclical_coordinate_descent(feature_matrix, output, initial_weights, l1_penalty, tolerance):\n",
    "    number_of_features = feature_matrix.shape[1]\n",
    "\n",
    "    weights = initial_weights\n",
    "    step = np.zeros(len(weights))\n",
    "\n",
    "    converged = False\n",
    "    while(not converged):\n",
    "        for j in range(number_of_features):\n",
    "            new_weight = lasso_coordinate_descent_step(j, feature_matrix, output, weights,  l1_penalty)\n",
    "            step[j] = np.abs(new_weight - weights[j])\n",
    "            weights[j] = new_weight\n",
    "        max_step = np.amax(step)\n",
    "        converged = max_step < tolerance\n",
    "    return weights"
   ]
  },
  {
   "cell_type": "markdown",
   "metadata": {},
   "source": [
    "Using the following parameters, learn the weights on the sales dataset."
   ]
  },
  {
   "cell_type": "code",
   "execution_count": 15,
   "metadata": {
    "collapsed": false
   },
   "outputs": [
    {
     "data": {
      "text/plain": [
       "array([ 21624997.95951872,  63157247.20788978,         0.        ])"
      ]
     },
     "execution_count": 15,
     "metadata": {},
     "output_type": "execute_result"
    }
   ],
   "source": [
    "fitted_weights = lasso_cyclical_coordinate_descent(normalized_features, output, np.zeros(3), l1_penalty = 1e7, tolerance = 1.0)\n",
    "fitted_weights"
   ]
  },
  {
   "cell_type": "code",
   "execution_count": 16,
   "metadata": {
    "collapsed": false
   },
   "outputs": [
    {
     "name": "stdout",
     "output_type": "stream",
     "text": [
      "RSS with normalized dataset:  1.63049247672e+15\n"
     ]
    }
   ],
   "source": [
    "print \"RSS with normalized dataset: \", np.sum( (sales['price'] - predict_output(normalized_features, fitted_weights))**2)"
   ]
  },
  {
   "cell_type": "markdown",
   "metadata": {},
   "source": [
    "### 16. Quiz Question: Which features had weight zero at convergence?\n",
    "Bedrooms"
   ]
  },
  {
   "cell_type": "markdown",
   "metadata": {},
   "source": [
    "## Evaluating LASSO fit with more features"
   ]
  },
  {
   "cell_type": "code",
   "execution_count": 41,
   "metadata": {
    "collapsed": true
   },
   "outputs": [],
   "source": [
    "feature_list = ['bedrooms', 'bathrooms', 'sqft_living', 'sqft_lot', \n",
    "                'floors', 'waterfront', 'view', 'condition', 'grade', \n",
    "                'sqft_above', 'sqft_basement', 'yr_built', 'yr_renovated']"
   ]
  },
  {
   "cell_type": "code",
   "execution_count": 42,
   "metadata": {
    "collapsed": false
   },
   "outputs": [],
   "source": [
    "(feature_data, output) = get_numpy_data(sales_train, feature_list, 'price')\n",
    "normalized_features, norms = normalize_features(feature_data)"
   ]
  },
  {
   "cell_type": "code",
   "execution_count": 43,
   "metadata": {
    "collapsed": false
   },
   "outputs": [],
   "source": [
    "empty_weights = np.zeros(len(feature_list)+1)\n",
    "l1_penalty = 1e7\n",
    "tolerance = 1.0\n",
    "output = sales_train['price']\n",
    "weights1e7 = lasso_cyclical_coordinate_descent(normalized_features, output, empty_weights, l1_penalty, tolerance)"
   ]
  },
  {
   "cell_type": "code",
   "execution_count": 44,
   "metadata": {
    "collapsed": false
   },
   "outputs": [
    {
     "name": "stdout",
     "output_type": "stream",
     "text": [
      "[ 24429600.23440337         0.                 0.          48389174.77154855\n",
      "         0.                 0.           3317511.21492164\n",
      "   7329961.81171433         0.                 0.                 0.\n",
      "         0.                 0.                 0.        ]\n"
     ]
    }
   ],
   "source": [
    "print weights1e7"
   ]
  },
  {
   "cell_type": "markdown",
   "metadata": {},
   "source": [
    "20 Quiz Question: What features had non-zero weight in this case?\n"
   ]
  },
  {
   "cell_type": "code",
   "execution_count": 36,
   "metadata": {
    "collapsed": false
   },
   "outputs": [],
   "source": [
    "def printNonZeroWeights(all_indicies, selected_indicies):\n",
    "    f = lambda x: all_indicies[x]\n",
    "    features = np.nonzero(selected_indicies)[0]\n",
    "    print \"Non zero elements: \", np.array([f(xi) for xi in features])"
   ]
  },
  {
   "cell_type": "code",
   "execution_count": 46,
   "metadata": {
    "collapsed": false
   },
   "outputs": [
    {
     "name": "stdout",
     "output_type": "stream",
     "text": [
      "Non zero elements:  ['constant' 'sqft_living' 'waterfront' 'view']\n"
     ]
    }
   ],
   "source": [
    "printNonZeroWeights(['constant']+feature_list, weights1e7)"
   ]
  },
  {
   "cell_type": "code",
   "execution_count": 47,
   "metadata": {
    "collapsed": false
   },
   "outputs": [
    {
     "name": "stdout",
     "output_type": "stream",
     "text": [
      "[ 71114625.71488713         0.                 0.                 0.\n",
      "         0.                 0.                 0.                 0.\n",
      "         0.                 0.                 0.                 0.\n",
      "         0.                 0.        ]\n",
      "Non zero elements:  ['constant']\n"
     ]
    }
   ],
   "source": [
    "l1_penalty = 1e8\n",
    "empty_weights = np.zeros(len(feature_list)+1)\n",
    "weights1e8 = lasso_cyclical_coordinate_descent(normalized_features, output, empty_weights, l1_penalty, tolerance)\n",
    "print weights1e8\n",
    "printNonZeroWeights(['constant']+feature_list, weights1e8)"
   ]
  },
  {
   "cell_type": "code",
   "execution_count": 48,
   "metadata": {
    "collapsed": false
   },
   "outputs": [
    {
     "name": "stdout",
     "output_type": "stream",
     "text": [
      "[ 78564738.34156865 -22097398.92430516  12791071.87278499\n",
      "  93808088.09281231  -2013172.75704975  -4219184.93265008\n",
      "   6482842.81753504   7127408.53480684   5001664.85469708\n",
      "  14327518.43714112 -15770959.15237417  -5159591.22213152\n",
      " -84495341.76843902   2824439.49703689]\n",
      "Non zero elements:  ['constant' 'bedrooms' 'bathrooms' 'sqft_living' 'sqft_lot' 'floors'\n",
      " 'waterfront' 'view' 'condition' 'grade' 'sqft_above' 'sqft_basement'\n",
      " 'yr_built' 'yr_renovated']\n"
     ]
    }
   ],
   "source": [
    "l1_penalty = 1e4\n",
    "tolerance = 5e5\n",
    "empty_weights = np.zeros(len(feature_list)+1)\n",
    "weights1e4 = lasso_cyclical_coordinate_descent(normalized_features, output, empty_weights, l1_penalty, tolerance)\n",
    "print weights1e4\n",
    "printNonZeroWeights(['constant']+feature_list, weights1e4)"
   ]
  },
  {
   "cell_type": "markdown",
   "metadata": {},
   "source": [
    "### Rescaling (normalizing) the weights\n",
    "Recall that we normalized our feature matrix, before learning the weights. To use these weights on a test set, we must normalize the test data in the same way. Alternatively, we can rescale the learned weights to include the normalization, so we never have to worry about normalizing the test data:"
   ]
  },
  {
   "cell_type": "code",
   "execution_count": 49,
   "metadata": {
    "collapsed": true
   },
   "outputs": [],
   "source": [
    "(feature_data, output) = get_numpy_data(sales_train, feature_list, 'price')\n",
    "normalized_features, norms = normalize_features(feature_data)"
   ]
  },
  {
   "cell_type": "code",
   "execution_count": 50,
   "metadata": {
    "collapsed": false
   },
   "outputs": [
    {
     "name": "stdout",
     "output_type": "stream",
     "text": [
      "161.317457646\n"
     ]
    }
   ],
   "source": [
    "normalized_weights1e7 = weights1e7 / norms\n",
    "normalized_weights1e8 = weights1e8 / norms\n",
    "normalized_weights1e4 = weights1e4 / norms\n",
    "print normalized_weights1e7[3]"
   ]
  },
  {
   "cell_type": "markdown",
   "metadata": {},
   "source": [
    "Quiz 27. Let's now evaluate the three models on the test data. Extract the feature matrix and output array from the TEST set. But this time, do NOT normalize the feature matrix. Instead, use the normalized version of weights to make predictions."
   ]
  },
  {
   "cell_type": "code",
   "execution_count": 51,
   "metadata": {
    "collapsed": true
   },
   "outputs": [],
   "source": [
    "(feature_data, output) = get_numpy_data(sales_test, feature_list, 'price')"
   ]
  },
  {
   "cell_type": "code",
   "execution_count": 52,
   "metadata": {
    "collapsed": false
   },
   "outputs": [
    {
     "name": "stdout",
     "output_type": "stream",
     "text": [
      "RSS for normalized_weights1e7:  2.7596207592e+14\n",
      "RSS for normalized_weights1e8:  5.37166151497e+14\n",
      "RSS for normalized_weights1e4:  2.28459958971e+14\n"
     ]
    }
   ],
   "source": [
    "print \"RSS for normalized_weights1e7: \", np.sum( (sales_test['price'] - predict_output(feature_data, normalized_weights1e7))**2)\n",
    "print \"RSS for normalized_weights1e8: \", np.sum( (sales_test['price'] - predict_output(feature_data, normalized_weights1e8))**2)\n",
    "print \"RSS for normalized_weights1e4: \", np.sum( (sales_test['price'] - predict_output(feature_data, normalized_weights1e4))**2)"
   ]
  },
  {
   "cell_type": "code",
   "execution_count": null,
   "metadata": {
    "collapsed": true
   },
   "outputs": [],
   "source": []
  }
 ],
 "metadata": {
  "kernelspec": {
   "display_name": "Python 2",
   "language": "python",
   "name": "python2"
  },
  "language_info": {
   "codemirror_mode": {
    "name": "ipython",
    "version": 2
   },
   "file_extension": ".py",
   "mimetype": "text/x-python",
   "name": "python",
   "nbconvert_exporter": "python",
   "pygments_lexer": "ipython2",
   "version": "2.7.11"
  }
 },
 "nbformat": 4,
 "nbformat_minor": 0
}
